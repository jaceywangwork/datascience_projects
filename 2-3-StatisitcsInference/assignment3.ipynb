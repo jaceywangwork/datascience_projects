{
 "cells": [
  {
   "cell_type": "markdown",
   "metadata": {
    "colab_type": "text",
    "id": "1oGjoWSWqQ77"
   },
   "source": [
    "## Assignment 3"
   ]
  },
  {
   "cell_type": "markdown",
   "metadata": {
    "colab_type": "text",
    "id": "-oi4JzShqQ78"
   },
   "source": [
    "This assignmemt is based on content discussed in module 3 and test basic concepts of probability theory and normalization in statistics."
   ]
  },
  {
   "cell_type": "markdown",
   "metadata": {
    "colab_type": "text",
    "id": "gjI1J5nXqQ79"
   },
   "source": [
    "## Learning outcomes"
   ]
  },
  {
   "cell_type": "markdown",
   "metadata": {
    "colab_type": "text",
    "id": "R9t0LyaqqQ7-"
   },
   "source": [
    "-   Work on problems of different distributions eg., binomial, gaussian \n",
    "-   Calculate z score \n",
    "-\t Make statistical inferences on given data\n",
    "-\t Construct a null and an alternate hypothesis\n",
    "-\t Find the p-value for a given hypothesis and T test statistic.\n"
   ]
  },
  {
   "cell_type": "markdown",
   "metadata": {
    "colab_type": "text",
    "id": "_lXvCMN_qQ7_"
   },
   "source": [
    "**Question 1**\n",
    "\n",
    "The Capital Asset Pricing Model (CAPM) is a financial model that assumes returns on a portfolio are normally distributed.  Suppose a portfolio has an average annual return of 14.7% (i.e., an average gain on 14.7%) with a standard deviation of 33%.  A return of 0% means the value of the portfolio doesn't change, a negative return means that the portfolio loses money, and a positive return means that the portfolio gains money. Determine the following:\n",
    "\n",
    "1. What percentage of years does this portfolio lose money, (i.e. have a return less than 0%)?\n",
    "2. What is the cutoff for the highest 15% of annual returns with this portfolio?\n",
    "\n",
    "See CAPM here https://en.wikipedia.org/wiki/Capital_asset_pricing_model "
   ]
  },
  {
   "cell_type": "markdown",
   "metadata": {
    "colab_type": "text",
    "id": "_l53E9BAqQ8A"
   },
   "source": [
    "**Question 2**\n",
    "\n",
    "Past experience indicates that because of low morale, a company loses 20 hours a year per employee due to lateness and abstenteeism.  Assume that the standard deviation of the population is 6 and normally distributed.\n",
    "\n",
    "The HR department implemented a new rewards system to increase employee morale, and after a few months it collected a random sample of 20 employees and the annualized absenteeism was 14.\n",
    "\n",
    "1. Could you confirm that the new rewards system was effective with a 90% confidence?\n",
    "2. An HR subject matter expert would be very happy if the program could reduce absenteeism by 20% (i.e. to 16 hours).  Given the current sampling parameters, what is the probability that the new rewards system reduced absenteeism to 16 hours and you miss it?\n",
    "3. Repeat part 1) and 2) with an α = 95% CI.\n",
    "4. Based on the answers in 3), is the sampling method good enough to identify a reduction from 20 to 16 hours if I use a confidence of 95%?\n",
    "5. What should the sample size be if you want β to be 5%"
   ]
  },
  {
   "cell_type": "markdown",
   "metadata": {
    "colab_type": "text",
    "id": "LOjrz6ycqQ8A"
   },
   "source": [
    "**Question 3**\n",
    "\n",
    "Chi-Square Goodness of fit\n",
    "\n",
    "Please access and review **section 6.3.5** in the OpenIntro Statistics textbook:\n",
    "\n",
    "Diez, D., Barr, C. & Çetinkaya-Rundel, M. (2017). OpenIntro Statistics (3rd Ed.). https://www.openintro.org/stat/textbook.php?stat_book=os\n",
    "\n",
    "Given the information in section 6.3.5, write python code for the following:\n",
    "\n",
    " - Calculate the expected values based on the geometric distribution with a probability of 53.2%\n",
    " - Compare the expected vs. the observed values from the textbook using the Chi-Square distribution\n",
    " - Reach a conclusion\n",
    " - Explain what is the business impact of your conclusion"
   ]
  },
  {
   "cell_type": "code",
   "execution_count": 272,
   "metadata": {},
   "outputs": [
    {
     "name": "stdout",
     "output_type": "stream",
     "text": [
      "0.3279956507031998\n"
     ]
    }
   ],
   "source": [
    "#Q1.1\n",
    "#H0: r<0\n",
    "#Ha: r>=0\n",
    "\n",
    "from scipy import stats\n",
    "r=0\n",
    "mu=0.147\n",
    "sigma=0.33\n",
    "\n",
    "zscore = (r - mu) / sigma\n",
    "zscore\n",
    "\n",
    "p = stats.norm.cdf(zscore)\n",
    "p\n",
    "print(p)\n",
    "#Comment:32.7% percentage of years it will lose money"
   ]
  },
  {
   "cell_type": "code",
   "execution_count": 273,
   "metadata": {},
   "outputs": [
    {
     "name": "stdout",
     "output_type": "stream",
     "text": [
      "0.4890230185329506\n"
     ]
    }
   ],
   "source": [
    "#Q1.2\n",
    "x=0.15\n",
    "###Here is the answer\n",
    "p2 = stats.norm.ppf(1-x,loc=mu,scale=sigma)\n",
    "p2\n",
    "print(p2)"
   ]
  },
  {
   "cell_type": "code",
   "execution_count": 274,
   "metadata": {},
   "outputs": [
    {
     "name": "stdout",
     "output_type": "stream",
     "text": [
      "3.872108215522035e-06\n",
      "reject null hypothesis\n"
     ]
    }
   ],
   "source": [
    "#Q2.1\n",
    "\n",
    "from scipy import stats\n",
    "import math \n",
    "x3=14\n",
    "mu3=20\n",
    "sigma3=6\n",
    "smpl_size=20\n",
    "stderror=sigma3/math.sqrt(smpl_size)\n",
    "\n",
    "zscore3 = (x3 - mu3) / stderror\n",
    "zscore3\n",
    "\n",
    "\n",
    "p3 = stats.norm.cdf(zscore3)\n",
    "p3\n",
    "print(p3)\n",
    "\n",
    "if p3<0.1:\n",
    "    print(\"reject null hypothesis\")\n",
    "else:\n",
    "    print(\"accept null hypothesis\")\n",
    "#p-value is less than significant level, we reject null hypthoesis, conclusion:new rewards system was not effective."
   ]
  },
  {
   "cell_type": "code",
   "execution_count": 275,
   "metadata": {},
   "outputs": [
    {
     "name": "stdout",
     "output_type": "stream",
     "text": [
      "0.9319814359429281\n",
      "accept null hypothesis\n"
     ]
    }
   ],
   "source": [
    "#Q2.2\n",
    "#H0: new system effective\n",
    "#HA: new system is not effective\n",
    "from scipy import stats\n",
    "import math \n",
    "mu4=16\n",
    "\n",
    "zscore4 = (x3 - mu4) / stderror\n",
    "zscore4\n",
    "p4 = 1-stats.norm.cdf(zscore4)\n",
    "p4\n",
    "print(p4)\n",
    "\n",
    "if p4<0.1:\n",
    "    print(\"reject null hypothesis\")\n",
    "else:\n",
    "    print(\"accept null hypothesis\")\n",
    "#p-value is more than significant level, we accept null hypthoesis, conclusion:new rewards system was effective.\n"
   ]
  },
  {
   "cell_type": "code",
   "execution_count": 276,
   "metadata": {},
   "outputs": [
    {
     "name": "stdout",
     "output_type": "stream",
     "text": [
      "3.872108215522035e-06\n",
      "reject null hypothesis\n"
     ]
    }
   ],
   "source": [
    "#Q2.3 part1\n",
    "p5 = stats.norm.cdf(zscore3)\n",
    "p5\n",
    "print(p5)\n",
    "\n",
    "if p5<0.05:\n",
    "    print(\"reject null hypothesis\")\n",
    "else:\n",
    "    print(\"accept null hypothesis\")\n",
    "#p-value is less than significant level, we reject null hypthoesis, conclusion:new rewards system was not effective."
   ]
  },
  {
   "cell_type": "code",
   "execution_count": 277,
   "metadata": {},
   "outputs": [
    {
     "name": "stdout",
     "output_type": "stream",
     "text": [
      "accept null hypothesis\n"
     ]
    }
   ],
   "source": [
    "#Q2.3 Part2\n",
    "\n",
    "p6 = 1-stats.norm.cdf(zscore4)\n",
    "p6\n",
    "if p6<0.05:\n",
    "    print(\"reject null hypothesis\")\n",
    "else:\n",
    "    print(\"accept null hypothesis\")\n",
    "#p-value is more than significant level, we accept null hypthoesis, conclusion:new rewards system was effective."
   ]
  },
  {
   "cell_type": "code",
   "execution_count": 278,
   "metadata": {},
   "outputs": [],
   "source": [
    "#Q2.4\n",
    "#Answer and Analysis\n",
    "#Based on Q2.2 to Q2.3, new reward system changed to 16 is working effective."
   ]
  },
  {
   "cell_type": "code",
   "execution_count": 279,
   "metadata": {},
   "outputs": [
    {
     "name": "stdout",
     "output_type": "stream",
     "text": [
      "3.38973667232352\n",
      "accept null hypothesis\n"
     ]
    }
   ],
   "source": [
    "#Q2.5\n",
    "\n",
    "munew=16\n",
    "Diffmu=munew-mu3\n",
    "stderrordiff=math.sqrt((sigma3**2+sigma3**2)/smpl_size)\n",
    "\n",
    "zscore5 = (0 - Diffmu) / stderrordiff\n",
    "zscore5\n",
    "\n",
    "p6 = stats.norm.ppf(1-0.1,zscore5)\n",
    "p6\n",
    "\n",
    "print(p6)\n",
    "\n",
    "if p6<0.05:\n",
    "    print(\"reject null hypothesis\")\n",
    "else:\n",
    "    print(\"accept null hypothesis\")\n",
    "# conclusion:new rewards system was effective."
   ]
  },
  {
   "cell_type": "code",
   "execution_count": 280,
   "metadata": {},
   "outputs": [],
   "source": [
    "#Q3\n",
    "#H0: The stock market being up or down on a given day is independent from all other days.\n",
    "#Ha: The stock market being up or down on a given day is not independent from all other days.\n",
    "\n",
    "table=[(1, 1532),(2, 760),(3, 338),(4, 194),(5, 74),(6, 33),(7, 17)]\n",
    "import pandas as pd\n",
    "ab=pd.DataFrame(data=table,columns=['Day','observed'])\n",
    "p=0.532\n",
    "total=ab['observed'].sum()\n",
    "firstsix=ab['Day'].loc[0:5]*ab['observed'].loc[0:5]\n",
    "six=firstsix.sum()"
   ]
  },
  {
   "cell_type": "code",
   "execution_count": 281,
   "metadata": {},
   "outputs": [
    {
     "data": {
      "text/html": [
       "<div>\n",
       "<style scoped>\n",
       "    .dataframe tbody tr th:only-of-type {\n",
       "        vertical-align: middle;\n",
       "    }\n",
       "\n",
       "    .dataframe tbody tr th {\n",
       "        vertical-align: top;\n",
       "    }\n",
       "\n",
       "    .dataframe thead th {\n",
       "        text-align: right;\n",
       "    }\n",
       "</style>\n",
       "<table border=\"1\" class=\"dataframe\">\n",
       "  <thead>\n",
       "    <tr style=\"text-align: right;\">\n",
       "      <th></th>\n",
       "      <th>observed</th>\n",
       "      <th>expected</th>\n",
       "    </tr>\n",
       "    <tr>\n",
       "      <th>Day</th>\n",
       "      <th></th>\n",
       "      <th></th>\n",
       "    </tr>\n",
       "  </thead>\n",
       "  <tbody>\n",
       "    <tr>\n",
       "      <td>1</td>\n",
       "      <td>1532</td>\n",
       "      <td>1568</td>\n",
       "    </tr>\n",
       "    <tr>\n",
       "      <td>2</td>\n",
       "      <td>760</td>\n",
       "      <td>734</td>\n",
       "    </tr>\n",
       "    <tr>\n",
       "      <td>3</td>\n",
       "      <td>338</td>\n",
       "      <td>344</td>\n",
       "    </tr>\n",
       "    <tr>\n",
       "      <td>4</td>\n",
       "      <td>194</td>\n",
       "      <td>161</td>\n",
       "    </tr>\n",
       "    <tr>\n",
       "      <td>5</td>\n",
       "      <td>74</td>\n",
       "      <td>75</td>\n",
       "    </tr>\n",
       "    <tr>\n",
       "      <td>6</td>\n",
       "      <td>33</td>\n",
       "      <td>35</td>\n",
       "    </tr>\n",
       "    <tr>\n",
       "      <td>7</td>\n",
       "      <td>17</td>\n",
       "      <td>31</td>\n",
       "    </tr>\n",
       "  </tbody>\n",
       "</table>\n",
       "</div>"
      ],
      "text/plain": [
       "     observed  expected\n",
       "Day                    \n",
       "1        1532      1568\n",
       "2         760       734\n",
       "3         338       344\n",
       "4         194       161\n",
       "5          74        75\n",
       "6          33        35\n",
       "7          17        31"
      ]
     },
     "execution_count": 281,
     "metadata": {},
     "output_type": "execute_result"
    }
   ],
   "source": [
    "ab['expected']=0\n",
    "exp=0\n",
    "for i in range(6):\n",
    "    exp=round((((1-p)**((ab['Day'][i])-1))*p)*total)#.astype(int)\n",
    "    ab['expected'][i]=exp\n",
    "\n",
    "sevenplus=total-ab['expected'].sum()\n",
    "Expect.append(sevenplus)\n",
    "ab['expected'][6]=sevenplus\n",
    "\n",
    "ab.set_index('Day', inplace=True)\n",
    "ab.head(10)"
   ]
  },
  {
   "cell_type": "code",
   "execution_count": 282,
   "metadata": {},
   "outputs": [
    {
     "data": {
      "image/png": "[encoded data removed]",
      "text/plain": [
       "<Figure size 432x288 with 1 Axes>"
      ]
     },
     "metadata": {
      "needs_background": "light"
     },
     "output_type": "display_data"
    }
   ],
   "source": [
    "import matplotlib.pyplot as plt\n",
    "import pandas as pd\n",
    "ab[['observed','expected']].plot(kind='bar')\n",
    "plt.legend()\n",
    "plt.show()"
   ]
  },
  {
   "cell_type": "code",
   "execution_count": 283,
   "metadata": {},
   "outputs": [
    {
     "name": "stdout",
     "output_type": "stream",
     "text": [
      "Chi-square Statistic= 15.07\n",
      "p-value= 0.02\n"
     ]
    }
   ],
   "source": [
    "import numpy as np\n",
    "from scipy.stats import chisquare\n",
    "test=chisquare(ab['observed'], f_exp=ab['expected'])\n",
    "print('Chi-square Statistic= %.2f' %test.statistic)#\n",
    "print('p-value= %.2f' %test.pvalue) "
   ]
  },
  {
   "cell_type": "code",
   "execution_count": 284,
   "metadata": {},
   "outputs": [
    {
     "name": "stdout",
     "output_type": "stream",
     "text": [
      "If the null hypothesis is true, i.e. the observed frequencies are equivalent to the expected one, the probability of obtaining our sample is 2.0 % thus we fail to reject the null and state that the observed and expected frequencies are the same.\n"
     ]
    }
   ],
   "source": [
    "print('If the null hypothesis is true, i.e. the observed frequencies are equivalent to the expected one, the probability of obtaining our sample is',\n",
    "       np.round(test.pvalue,2)*100,'%', 'thus we fail to reject the null and state that the observed and expected frequencies are the same.')"
   ]
  }
 ],
 "metadata": {
  "colab": {
   "collapsed_sections": [],
   "name": "Assignment 3v.3.ipynb",
   "provenance": [],
   "version": "0.3.2"
  },
  "kernelspec": {
   "display_name": "Python 3",
   "language": "python",
   "name": "python3"
  },
  "language_info": {
   "codemirror_mode": {
    "name": "ipython",
    "version": 3
   },
   "file_extension": ".py",
   "mimetype": "text/x-python",
   "name": "python",
   "nbconvert_exporter": "python",
   "pygments_lexer": "ipython3",
   "version": "3.7.4"
  }
 },
 "nbformat": 4,
 "nbformat_minor": 1
}
