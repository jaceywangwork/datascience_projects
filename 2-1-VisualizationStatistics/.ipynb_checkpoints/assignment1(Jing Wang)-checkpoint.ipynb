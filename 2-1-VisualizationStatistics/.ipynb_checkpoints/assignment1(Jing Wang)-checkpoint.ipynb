{
 "cells": [
  {
   "cell_type": "markdown",
   "metadata": {},
   "source": [
    "## Assignment 1 \n",
    "\n",
    "This assignment is based on the video discussed in module 1.\n",
    "\n",
    "John Rauser ( 2014). Statistics Without the Agonizing Pain. Strata Hadoop 2014. Retrieved from https://www.youtube.com/watch?v=5Dnw46eC-0o\n",
    "\n",
    "(Source: https://www.youtube.com/watch?v=5Dnw46eC-0o )\n",
    "\n",
    "\n",
    "\n",
    "\n",
    " \n",
    "  \n",
    " "
   ]
  },
  {
   "cell_type": "markdown",
   "metadata": {},
   "source": [
    "## Learning outcomes"
   ]
  },
  {
   "cell_type": "markdown",
   "metadata": {},
   "source": [
    "- Use code to work with data\n",
    "- Calculate basic statistical measures \n",
    "- Implement a data simulation by using resampling \n"
   ]
  },
  {
   "cell_type": "markdown",
   "metadata": {},
   "source": [
    "**Question 1**\n",
    "\n",
    "1. Using the dataset from the video ( _mosquitos_data.csv_) in the folder, write Python code to:\n",
    "\n",
    "    - Create side-by-side boxplots for the number of mosquitos in each group ( _beer vs water) \n",
    "    - What does the graph reveal about the data for both groups?  Is there an association between beer       consumption and attractiveness to mosquitos.\n",
    "    - Calculate basic statistics measures for each group: Mean, median, standard deviation and explain the numbers.\n",
    "\n",
    "2. Write code to implement the data simulation demonstrated in the above mentioned video.  Calculate the probability of obtaining the experiment outcome assuming no association between beer consumption."
   ]
  },
  {
   "cell_type": "markdown",
   "metadata": {},
   "source": [
    "## Hints\n",
    "\n",
    "- Use pandas, matplotlib, or seaborn to plot boxplots in Python. \n",
    "- Label the graphs wherever applicable e.g, title, legend, units etc.\n",
    "\n",
    "\n",
    "\n"
   ]
  },
  {
   "cell_type": "code",
   "execution_count": 68,
   "metadata": {},
   "outputs": [],
   "source": [
    "# Student Name: Jing Wang\n",
    "# Uwaterloo Email: wjing@uwaterloo\n",
    "# Assignment 1 - Statistics Data Science\n",
    "#All interpretation are shown in comment or Markdown cell"
   ]
  },
  {
   "cell_type": "code",
   "execution_count": 69,
   "metadata": {},
   "outputs": [
    {
     "data": {
      "text/html": [
       "<div>\n",
       "<style scoped>\n",
       "    .dataframe tbody tr th:only-of-type {\n",
       "        vertical-align: middle;\n",
       "    }\n",
       "\n",
       "    .dataframe tbody tr th {\n",
       "        vertical-align: top;\n",
       "    }\n",
       "\n",
       "    .dataframe thead th {\n",
       "        text-align: right;\n",
       "    }\n",
       "</style>\n",
       "<table border=\"1\" class=\"dataframe\">\n",
       "  <thead>\n",
       "    <tr style=\"text-align: right;\">\n",
       "      <th></th>\n",
       "      <th>Response</th>\n",
       "      <th>Treatment</th>\n",
       "    </tr>\n",
       "  </thead>\n",
       "  <tbody>\n",
       "    <tr>\n",
       "      <td>0</td>\n",
       "      <td>27</td>\n",
       "      <td>Beer</td>\n",
       "    </tr>\n",
       "    <tr>\n",
       "      <td>1</td>\n",
       "      <td>20</td>\n",
       "      <td>Beer</td>\n",
       "    </tr>\n",
       "    <tr>\n",
       "      <td>2</td>\n",
       "      <td>21</td>\n",
       "      <td>Beer</td>\n",
       "    </tr>\n",
       "    <tr>\n",
       "      <td>3</td>\n",
       "      <td>26</td>\n",
       "      <td>Beer</td>\n",
       "    </tr>\n",
       "    <tr>\n",
       "      <td>4</td>\n",
       "      <td>27</td>\n",
       "      <td>Beer</td>\n",
       "    </tr>\n",
       "  </tbody>\n",
       "</table>\n",
       "</div>"
      ],
      "text/plain": [
       "   Response Treatment\n",
       "0        27      Beer\n",
       "1        20      Beer\n",
       "2        21      Beer\n",
       "3        26      Beer\n",
       "4        27      Beer"
      ]
     },
     "execution_count": 69,
     "metadata": {},
     "output_type": "execute_result"
    }
   ],
   "source": [
    "#Your Work here\n",
    "# Q1\n",
    "import pandas as pd\n",
    "# import matplotlib\n",
    "%matplotlib inline\n",
    "import matplotlib.pyplot as plt\n",
    "# import seaborn\n",
    "import seaborn as sns\n",
    "%matplotlib inline\n",
    "m_data=pd.read_csv('mosquitos_data.csv')\n",
    "m_data=pd.DataFrame(m_data)\n",
    "#Take a quick look at the data\n",
    "m_data.head()"
   ]
  },
  {
   "cell_type": "code",
   "execution_count": 70,
   "metadata": {},
   "outputs": [
    {
     "name": "stdout",
     "output_type": "stream",
     "text": [
      "<class 'pandas.core.frame.DataFrame'>\n",
      "RangeIndex: 43 entries, 0 to 42\n",
      "Data columns (total 2 columns):\n",
      "Response     43 non-null int64\n",
      "Treatment    43 non-null object\n",
      "dtypes: int64(1), object(1)\n",
      "memory usage: 816.0+ bytes\n"
     ]
    }
   ],
   "source": [
    "#Understand data\n",
    "m_data.info()"
   ]
  },
  {
   "cell_type": "code",
   "execution_count": 71,
   "metadata": {},
   "outputs": [
    {
     "data": {
      "text/html": [
       "<div>\n",
       "<style scoped>\n",
       "    .dataframe tbody tr th:only-of-type {\n",
       "        vertical-align: middle;\n",
       "    }\n",
       "\n",
       "    .dataframe tbody tr th {\n",
       "        vertical-align: top;\n",
       "    }\n",
       "\n",
       "    .dataframe thead th {\n",
       "        text-align: right;\n",
       "    }\n",
       "</style>\n",
       "<table border=\"1\" class=\"dataframe\">\n",
       "  <thead>\n",
       "    <tr style=\"text-align: right;\">\n",
       "      <th></th>\n",
       "      <th>Response</th>\n",
       "    </tr>\n",
       "  </thead>\n",
       "  <tbody>\n",
       "    <tr>\n",
       "      <td>count</td>\n",
       "      <td>43.000000</td>\n",
       "    </tr>\n",
       "    <tr>\n",
       "      <td>mean</td>\n",
       "      <td>21.767442</td>\n",
       "    </tr>\n",
       "    <tr>\n",
       "      <td>std</td>\n",
       "      <td>4.471269</td>\n",
       "    </tr>\n",
       "    <tr>\n",
       "      <td>min</td>\n",
       "      <td>12.000000</td>\n",
       "    </tr>\n",
       "    <tr>\n",
       "      <td>25%</td>\n",
       "      <td>19.000000</td>\n",
       "    </tr>\n",
       "    <tr>\n",
       "      <td>50%</td>\n",
       "      <td>21.000000</td>\n",
       "    </tr>\n",
       "    <tr>\n",
       "      <td>75%</td>\n",
       "      <td>24.000000</td>\n",
       "    </tr>\n",
       "    <tr>\n",
       "      <td>max</td>\n",
       "      <td>31.000000</td>\n",
       "    </tr>\n",
       "  </tbody>\n",
       "</table>\n",
       "</div>"
      ],
      "text/plain": [
       "        Response\n",
       "count  43.000000\n",
       "mean   21.767442\n",
       "std     4.471269\n",
       "min    12.000000\n",
       "25%    19.000000\n",
       "50%    21.000000\n",
       "75%    24.000000\n",
       "max    31.000000"
      ]
     },
     "execution_count": 71,
     "metadata": {},
     "output_type": "execute_result"
    }
   ],
   "source": [
    "#Understand data\n",
    "m_data.describe()"
   ]
  },
  {
   "cell_type": "code",
   "execution_count": 72,
   "metadata": {},
   "outputs": [
    {
     "data": {
      "text/plain": [
       "(43, 2)"
      ]
     },
     "execution_count": 72,
     "metadata": {},
     "output_type": "execute_result"
    }
   ],
   "source": [
    "m_data.shape"
   ]
  },
  {
   "cell_type": "code",
   "execution_count": 73,
   "metadata": {},
   "outputs": [
    {
     "data": {
      "text/plain": [
       "Text(0.5, 1.0, 'Boxplot - number of mosquitoes of Beer and Water Consumption')"
      ]
     },
     "execution_count": 73,
     "metadata": {},
     "output_type": "execute_result"
    },
    {
     "data": {
      "image/png": "[encoded data removed]",
      "text/plain": [
       "<Figure size 432x288 with 1 Axes>"
      ]
     },
     "metadata": {
      "needs_background": "light"
     },
     "output_type": "display_data"
    }
   ],
   "source": [
    "#Plot boxplot for the data, by show # of mosquitoes in each group\n",
    "sns.boxplot(y='Response', x='Treatment', \n",
    "                 data=m_data, \n",
    "                 palette=\"colorblind\",\n",
    "                 hue='Treatment'\n",
    "           ).set_title(\"Boxplot - number of mosquitoes of Beer and Water Consumption\")"
   ]
  },
  {
   "cell_type": "markdown",
   "metadata": {},
   "source": [
    "Comments: Look at two box plots, median of Beer treatment(24.5) is higher than Water treatment(20),Beer consumption group is more attractive to mosquitoes. Beer data is more variable by look at the boxplot range(17.5-32),Water Treatment data is a little bit upper skew, more data concentrate above 20,is close to the median."
   ]
  },
  {
   "cell_type": "code",
   "execution_count": 74,
   "metadata": {},
   "outputs": [],
   "source": [
    "#Q2: Compute the content of the video, resampling data by n-fold. see what you conclude. by using t-test"
   ]
  },
  {
   "cell_type": "code",
   "execution_count": 75,
   "metadata": {},
   "outputs": [
    {
     "data": {
      "text/html": [
       "<div>\n",
       "<style scoped>\n",
       "    .dataframe tbody tr th:only-of-type {\n",
       "        vertical-align: middle;\n",
       "    }\n",
       "\n",
       "    .dataframe tbody tr th {\n",
       "        vertical-align: top;\n",
       "    }\n",
       "\n",
       "    .dataframe thead tr th {\n",
       "        text-align: left;\n",
       "    }\n",
       "\n",
       "    .dataframe thead tr:last-of-type th {\n",
       "        text-align: right;\n",
       "    }\n",
       "</style>\n",
       "<table border=\"1\" class=\"dataframe\">\n",
       "  <thead>\n",
       "    <tr>\n",
       "      <th></th>\n",
       "      <th colspan=\"3\" halign=\"left\">Response</th>\n",
       "    </tr>\n",
       "    <tr>\n",
       "      <th></th>\n",
       "      <th>mean</th>\n",
       "      <th>median</th>\n",
       "      <th>std</th>\n",
       "    </tr>\n",
       "    <tr>\n",
       "      <th>Treatment</th>\n",
       "      <th></th>\n",
       "      <th></th>\n",
       "      <th></th>\n",
       "    </tr>\n",
       "  </thead>\n",
       "  <tbody>\n",
       "    <tr>\n",
       "      <td>Beer</td>\n",
       "      <td>23.600000</td>\n",
       "      <td>24</td>\n",
       "      <td>4.133199</td>\n",
       "    </tr>\n",
       "    <tr>\n",
       "      <td>Water</td>\n",
       "      <td>19.222222</td>\n",
       "      <td>20</td>\n",
       "      <td>3.671120</td>\n",
       "    </tr>\n",
       "  </tbody>\n",
       "</table>\n",
       "</div>"
      ],
      "text/plain": [
       "            Response                 \n",
       "                mean median       std\n",
       "Treatment                            \n",
       "Beer       23.600000     24  4.133199\n",
       "Water      19.222222     20  3.671120"
      ]
     },
     "execution_count": 75,
     "metadata": {},
     "output_type": "execute_result"
    }
   ],
   "source": [
    "mdata_statistics=m_data.groupby('Treatment',as_index=False).agg(['mean','median','std'])\n",
    "mdata_statistics"
   ]
  },
  {
   "cell_type": "code",
   "execution_count": 76,
   "metadata": {},
   "outputs": [
    {
     "data": {
      "text/html": [
       "<div>\n",
       "<style scoped>\n",
       "    .dataframe tbody tr th:only-of-type {\n",
       "        vertical-align: middle;\n",
       "    }\n",
       "\n",
       "    .dataframe tbody tr th {\n",
       "        vertical-align: top;\n",
       "    }\n",
       "\n",
       "    .dataframe thead th {\n",
       "        text-align: right;\n",
       "    }\n",
       "</style>\n",
       "<table border=\"1\" class=\"dataframe\">\n",
       "  <thead>\n",
       "    <tr style=\"text-align: right;\">\n",
       "      <th></th>\n",
       "      <th>mean</th>\n",
       "      <th>median</th>\n",
       "      <th>std</th>\n",
       "    </tr>\n",
       "    <tr>\n",
       "      <th>Treatment</th>\n",
       "      <th></th>\n",
       "      <th></th>\n",
       "      <th></th>\n",
       "    </tr>\n",
       "  </thead>\n",
       "  <tbody>\n",
       "    <tr>\n",
       "      <td>Beer</td>\n",
       "      <td>23.600000</td>\n",
       "      <td>24</td>\n",
       "      <td>4.133199</td>\n",
       "    </tr>\n",
       "    <tr>\n",
       "      <td>Water</td>\n",
       "      <td>19.222222</td>\n",
       "      <td>20</td>\n",
       "      <td>3.671120</td>\n",
       "    </tr>\n",
       "  </tbody>\n",
       "</table>\n",
       "</div>"
      ],
      "text/plain": [
       "                mean  median       std\n",
       "Treatment                             \n",
       "Beer       23.600000      24  4.133199\n",
       "Water      19.222222      20  3.671120"
      ]
     },
     "execution_count": 76,
     "metadata": {},
     "output_type": "execute_result"
    }
   ],
   "source": [
    "#Drop Response level\n",
    "mdata_statistics.columns = mdata_statistics.columns.droplevel()\n",
    "mdata_statistics"
   ]
  },
  {
   "cell_type": "code",
   "execution_count": 77,
   "metadata": {},
   "outputs": [],
   "source": [
    "#Beer statistics data store in Beer_Stat\n",
    "Beer_Stat=mdata_statistics.iloc[0]\n",
    "\n",
    "#Water statistics data store in Water_Stat\n",
    "Water_Stat=mdata_statistics.iloc[1]\n",
    "\n",
    "#Difference between mean of beer and mean of water\n",
    "Diff_Mean=Beer_Stat['mean']-Water_Stat['mean']"
   ]
  },
  {
   "cell_type": "code",
   "execution_count": 78,
   "metadata": {},
   "outputs": [
    {
     "data": {
      "text/plain": [
       "mean      23.600000\n",
       "median    24.000000\n",
       "std        4.133199\n",
       "Name: Beer, dtype: float64"
      ]
     },
     "execution_count": 78,
     "metadata": {},
     "output_type": "execute_result"
    }
   ],
   "source": [
    "#Get the output of Beer_Stat statistics data\n",
    "Beer_Stat"
   ]
  },
  {
   "cell_type": "code",
   "execution_count": 79,
   "metadata": {},
   "outputs": [
    {
     "data": {
      "text/plain": [
       "mean      19.222222\n",
       "median    20.000000\n",
       "std        3.671120\n",
       "Name: Water, dtype: float64"
      ]
     },
     "execution_count": 79,
     "metadata": {},
     "output_type": "execute_result"
    }
   ],
   "source": [
    "#Get the output of Water_Stat statistics data\n",
    "Water_Stat"
   ]
  },
  {
   "cell_type": "code",
   "execution_count": 80,
   "metadata": {},
   "outputs": [
    {
     "data": {
      "text/plain": [
       "4.37777777777778"
      ]
     },
     "execution_count": 80,
     "metadata": {},
     "output_type": "execute_result"
    }
   ],
   "source": [
    "#Get the output of Difference in mean \n",
    "Diff_Mean"
   ]
  },
  {
   "cell_type": "code",
   "execution_count": 81,
   "metadata": {},
   "outputs": [
    {
     "data": {
      "text/plain": [
       "0    27\n",
       "1    20\n",
       "2    21\n",
       "3    26\n",
       "4    27\n",
       "Name: Response, dtype: int64"
      ]
     },
     "execution_count": 81,
     "metadata": {},
     "output_type": "execute_result"
    }
   ],
   "source": [
    "#Reshuffle m_data, come up with one list\n",
    "import numpy as np\n",
    "alldata =m_data ['Response']\n",
    "alldata.head()"
   ]
  },
  {
   "cell_type": "code",
   "execution_count": 82,
   "metadata": {},
   "outputs": [
    {
     "data": {
      "text/plain": [
       "<Figure size 2160x1440 with 0 Axes>"
      ]
     },
     "execution_count": 82,
     "metadata": {},
     "output_type": "execute_result"
    },
    {
     "data": {
      "image/png": "[encoded data removed]",
      "text/plain": [
       "<Figure size 432x288 with 1 Axes>"
      ]
     },
     "metadata": {
      "needs_background": "light"
     },
     "output_type": "display_data"
    },
    {
     "data": {
      "text/plain": [
       "<Figure size 2160x1440 with 0 Axes>"
      ]
     },
     "metadata": {},
     "output_type": "display_data"
    }
   ],
   "source": [
    "diffd=[]\n",
    "beer_len=len(m_data.query(\"Treatment=='Beer'\"))\n",
    "for i in range(1,10001):\n",
    "        d = np.random.permutation(alldata)\n",
    "        diff = float(np.mean(d[:beer_len])) - float(np.mean(d[beer_len:]))\n",
    "        diffd.append(diff)\n",
    "        \n",
    "\n",
    "plt.hist(diffd,bins='auto')\n",
    "plt.title('Difference of beer mean and water mean')\n",
    "#Plot the line of the Mean difference we got earlier\n",
    "plt.axvline(x=Diff_Mean, color='k', linestyle='dashed', linewidth=1)\n",
    "plt.figure(figsize=(30,20))"
   ]
  },
  {
   "cell_type": "code",
   "execution_count": 83,
   "metadata": {},
   "outputs": [
    {
     "data": {
      "text/plain": [
       "6"
      ]
     },
     "execution_count": 83,
     "metadata": {},
     "output_type": "execute_result"
    }
   ],
   "source": [
    "#counts 10000 experiments, how many times difference of beer mean and water mean is greater than and equal to Diff_Mean\n",
    "k=0\n",
    "k=[k+1 for i in diffd if i >=Diff_Mean]\n",
    "k=k.count(1)\n",
    "k"
   ]
  },
  {
   "cell_type": "code",
   "execution_count": 84,
   "metadata": {},
   "outputs": [
    {
     "data": {
      "text/plain": [
       "0.0006"
      ]
     },
     "execution_count": 84,
     "metadata": {},
     "output_type": "execute_result"
    }
   ],
   "source": [
    "#probability to get difference of beer mean and water mean is greater than and equal to Diff_Mean through 10000 expriments\n",
    "#I did not use one decimal rounding to Diff_Mean, I just take actual output of Diff_Mean, there will be a slightly different \n",
    "# to take 4.4, by using 4.4, the prob is 0.0005. using actual number of Diff_Mean, the probability is 0.0006\n",
    "prob=k/len(diffd)\n",
    "prob"
   ]
  }
 ],
 "metadata": {
  "kernelspec": {
   "display_name": "Python 3",
   "language": "python",
   "name": "python3"
  },
  "language_info": {
   "codemirror_mode": {
    "name": "ipython",
    "version": 3
   },
   "file_extension": ".py",
   "mimetype": "text/x-python",
   "name": "python",
   "nbconvert_exporter": "python",
   "pygments_lexer": "ipython3",
   "version": "3.7.4"
  }
 },
 "nbformat": 4,
 "nbformat_minor": 2
}
