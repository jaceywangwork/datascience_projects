{
 "cells": [
  {
   "cell_type": "markdown",
   "metadata": {},
   "source": [
    "Before you turn this problem in, make sure everything runs as expected. First, **restart the kernel** (in the menu bar, select Kernel$\\rightarrow$Restart) and then **run all cells** (in the menu bar, select Cell$\\rightarrow$Run All).\n",
    "\n",
    "Below, please fill in your name and collaborators:"
   ]
  },
  {
   "cell_type": "code",
   "execution_count": 2,
   "metadata": {},
   "outputs": [],
   "source": [
    "NAME = \"Jing Wang\"\n",
    "COLLABORATORS = \"\""
   ]
  },
  {
   "cell_type": "markdown",
   "metadata": {},
   "source": [
    "# Assignment 3 - Time Series Analysis\n",
    "**(15 points total)**"
   ]
  },
  {
   "cell_type": "markdown",
   "metadata": {},
   "source": [
    "## Assignment tasks:"
   ]
  },
  {
   "cell_type": "markdown",
   "metadata": {},
   "source": [
    "In this assignment you will conduct time series analysis of the financial data. \n",
    "\n",
    "1. Setup your environment to access and download latest stock data. Please see instructions below for different tools you can use to get the data. You can use any of the options provided, either Quandl or Yahoo Finance. If you know of any other service to download the data, please use that service, provide an explanation in the comments.\n",
    "\n",
    "2. *(2 points)* Download the **adjusted** close prices for FB, MMM, IBM and AMZN for the last 60 months. If you run into any issues downloading the data from online sources, you can use `.csv` files provided. This will not affect your grade for the assignment.\n",
    "\n",
    "3. *(3 points)* Resample the data to get prices for the end of the **business** month. Select the **Adjusted Close** for each stock.\n",
    "\n",
    "4. *(3 points)* Use the pandas `autocorrelation_plot()` function to plot the autocorrelation of the adjusted month-end close prices for each of the stocks.\n",
    "    - Are they autocorrelated?\n",
    "    - Provide short explanation.\n",
    "\n",
    "5. *(4 points)* \n",
    "    - Calculate the monthly returns for each stock using the \"shift trick\" explained in the lecture, using `shift()` function. \n",
    "    - Use pandas `autotocorrelation_plot()` to plot the autocorrelation of the monthly returns.\n",
    "    - Are the returns autocorrelated? Provide short explanation.\n",
    "\n",
    "6. *(3 points)*\n",
    "    - Combine all 4 time series (returns) into a single DataFrame,\n",
    "    - Visualize the correlation between the returns of all pairs of stocks using a scatter plot matrix (use `scatter_matrix()` function from `pandas.plotting`).\n",
    "    - Explain the results. Is there any correlation?\n",
    "\n",
    "**NOTES:** \n",
    "1. In this assignment, please make sure the DataFrame(s) do not contain any NAs before you plot autocorrelations or scatter matrix.\n",
    "2. Both options explained below use `pandas-datareader` package for remote data access. To install it, type the following in a command window: `conda install pandas-datareader`. You will also need to install one or more of the following packages `fix_yahoo_finance`, `quandl`. See below.\n",
    "\n",
    "---------"
   ]
  },
  {
   "cell_type": "markdown",
   "metadata": {},
   "source": [
    "## Downloading Stock Prices"
   ]
  },
  {
   "cell_type": "markdown",
   "metadata": {},
   "source": [
    "### Option 1 - Using QUANDL"
   ]
  },
  {
   "cell_type": "markdown",
   "metadata": {},
   "source": [
    "To use QUANDL service, you need to create an account and get an API Key. Here is the short description of steps:\n",
    "\n",
    "- Go to https://www.quandl.com/\n",
    "- Click either `sign up` at the top right corner of the home page, or scroll all the way down and click `Create Free Account` button at the bottom of the page.\n",
    "- Create an account. \n",
    "- You will receive an email to the email address you have used during the registration. Confirm your email.\n",
    "\n",
    "You are all set.\n",
    "\n",
    "Now, as you login into your account, click the avatar icon at the top right corner of the page, select `\"Account Settings.\"`\n",
    "On the next page, you will see `Your API Key` field with a long string of numbers and characters underneath. You need this API key for your call to Quandl from the notebook. In the code below, replace `YOUR_API_KEY` with the actual API key from your account. \n",
    "\n",
    "**NOTE**: You can remove this key before submitting the assignment."
   ]
  },
  {
   "cell_type": "markdown",
   "metadata": {},
   "source": [
    "### Option 2 - Using Yahoo Finance `fix_yahoo_finance` library"
   ]
  },
  {
   "cell_type": "code",
   "execution_count": 3,
   "metadata": {},
   "outputs": [],
   "source": [
    "#!pip install yfinance\n",
    "from pandas_datareader import data as pdr\n",
    "import pandas as pd\n",
    "import yfinance as yf\n",
    "import pandas as pd\n",
    "import matplotlib.pylab as plt\n",
    "%matplotlib inline\n",
    "from pandas.plotting import autocorrelation_plot\n",
    "from pandas.plotting import scatter_matrix\n",
    "import numpy as np\n",
    "\n",
    "\n",
    "# 1) Using pandas datareader and Yahoo Finance\n",
    "yf.pdr_override()\n",
    "\n",
    "#I chose to take 60 months/5 years stock data from 2015-01-01 to 2019-12-31"
   ]
  },
  {
   "cell_type": "markdown",
   "metadata": {},
   "source": [
    "Answer to Q2\n",
    "for Amazon stock"
   ]
  },
  {
   "cell_type": "code",
   "execution_count": 4,
   "metadata": {},
   "outputs": [
    {
     "name": "stdout",
     "output_type": "stream",
     "text": [
      "[*********************100%***********************]  1 of 1 completed\n"
     ]
    }
   ],
   "source": [
    "#60 Months Amazon Adj Close data, \n",
    "Amazon = yf.download('AMZN',start='2015-01-01',end='2019-12-31')['Adj Close']\n",
    "Amazon=pd.DataFrame(Amazon)\n",
    "# rename column 'Adj Close' to Amazon, for Q6 preparation\n",
    "Amazon=Amazon.rename(columns={\"Adj Close\": \"Amazon\"})\n"
   ]
  },
  {
   "cell_type": "markdown",
   "metadata": {},
   "source": [
    "Answer to Q3 for Amazon stock"
   ]
  },
  {
   "cell_type": "code",
   "execution_count": 5,
   "metadata": {},
   "outputs": [
    {
     "data": {
      "text/html": [
       "<div>\n",
       "<style scoped>\n",
       "    .dataframe tbody tr th:only-of-type {\n",
       "        vertical-align: middle;\n",
       "    }\n",
       "\n",
       "    .dataframe tbody tr th {\n",
       "        vertical-align: top;\n",
       "    }\n",
       "\n",
       "    .dataframe thead th {\n",
       "        text-align: right;\n",
       "    }\n",
       "</style>\n",
       "<table border=\"1\" class=\"dataframe\">\n",
       "  <thead>\n",
       "    <tr style=\"text-align: right;\">\n",
       "      <th></th>\n",
       "      <th>Amazon</th>\n",
       "    </tr>\n",
       "    <tr>\n",
       "      <th>Date</th>\n",
       "      <th></th>\n",
       "    </tr>\n",
       "  </thead>\n",
       "  <tbody>\n",
       "    <tr>\n",
       "      <td>2015-01-30</td>\n",
       "      <td>354.529999</td>\n",
       "    </tr>\n",
       "    <tr>\n",
       "      <td>2015-02-27</td>\n",
       "      <td>380.160004</td>\n",
       "    </tr>\n",
       "    <tr>\n",
       "      <td>2015-03-31</td>\n",
       "      <td>372.100006</td>\n",
       "    </tr>\n",
       "    <tr>\n",
       "      <td>2015-04-30</td>\n",
       "      <td>421.779999</td>\n",
       "    </tr>\n",
       "    <tr>\n",
       "      <td>2015-05-29</td>\n",
       "      <td>429.230011</td>\n",
       "    </tr>\n",
       "    <tr>\n",
       "      <td>2015-06-30</td>\n",
       "      <td>434.089996</td>\n",
       "    </tr>\n",
       "    <tr>\n",
       "      <td>2015-07-31</td>\n",
       "      <td>536.150024</td>\n",
       "    </tr>\n",
       "    <tr>\n",
       "      <td>2015-08-31</td>\n",
       "      <td>512.890015</td>\n",
       "    </tr>\n",
       "    <tr>\n",
       "      <td>2015-09-30</td>\n",
       "      <td>511.890015</td>\n",
       "    </tr>\n",
       "    <tr>\n",
       "      <td>2015-10-30</td>\n",
       "      <td>625.900024</td>\n",
       "    </tr>\n",
       "    <tr>\n",
       "      <td>2015-11-30</td>\n",
       "      <td>664.799988</td>\n",
       "    </tr>\n",
       "    <tr>\n",
       "      <td>2015-12-31</td>\n",
       "      <td>675.890015</td>\n",
       "    </tr>\n",
       "    <tr>\n",
       "      <td>2016-01-29</td>\n",
       "      <td>587.000000</td>\n",
       "    </tr>\n",
       "    <tr>\n",
       "      <td>2016-02-29</td>\n",
       "      <td>552.520020</td>\n",
       "    </tr>\n",
       "    <tr>\n",
       "      <td>2016-03-31</td>\n",
       "      <td>593.640015</td>\n",
       "    </tr>\n",
       "    <tr>\n",
       "      <td>2016-04-29</td>\n",
       "      <td>659.590027</td>\n",
       "    </tr>\n",
       "    <tr>\n",
       "      <td>2016-05-31</td>\n",
       "      <td>722.789978</td>\n",
       "    </tr>\n",
       "    <tr>\n",
       "      <td>2016-06-30</td>\n",
       "      <td>715.619995</td>\n",
       "    </tr>\n",
       "    <tr>\n",
       "      <td>2016-07-29</td>\n",
       "      <td>758.809998</td>\n",
       "    </tr>\n",
       "    <tr>\n",
       "      <td>2016-08-31</td>\n",
       "      <td>769.159973</td>\n",
       "    </tr>\n",
       "    <tr>\n",
       "      <td>2016-09-30</td>\n",
       "      <td>837.309998</td>\n",
       "    </tr>\n",
       "    <tr>\n",
       "      <td>2016-10-31</td>\n",
       "      <td>789.820007</td>\n",
       "    </tr>\n",
       "    <tr>\n",
       "      <td>2016-11-30</td>\n",
       "      <td>750.570007</td>\n",
       "    </tr>\n",
       "    <tr>\n",
       "      <td>2016-12-30</td>\n",
       "      <td>749.869995</td>\n",
       "    </tr>\n",
       "    <tr>\n",
       "      <td>2017-01-31</td>\n",
       "      <td>823.479980</td>\n",
       "    </tr>\n",
       "    <tr>\n",
       "      <td>2017-02-28</td>\n",
       "      <td>845.039978</td>\n",
       "    </tr>\n",
       "    <tr>\n",
       "      <td>2017-03-31</td>\n",
       "      <td>886.539978</td>\n",
       "    </tr>\n",
       "    <tr>\n",
       "      <td>2017-04-28</td>\n",
       "      <td>924.989990</td>\n",
       "    </tr>\n",
       "    <tr>\n",
       "      <td>2017-05-31</td>\n",
       "      <td>994.619995</td>\n",
       "    </tr>\n",
       "    <tr>\n",
       "      <td>2017-06-30</td>\n",
       "      <td>968.000000</td>\n",
       "    </tr>\n",
       "    <tr>\n",
       "      <td>2017-07-31</td>\n",
       "      <td>987.780029</td>\n",
       "    </tr>\n",
       "    <tr>\n",
       "      <td>2017-08-31</td>\n",
       "      <td>980.599976</td>\n",
       "    </tr>\n",
       "    <tr>\n",
       "      <td>2017-09-29</td>\n",
       "      <td>961.349976</td>\n",
       "    </tr>\n",
       "    <tr>\n",
       "      <td>2017-10-31</td>\n",
       "      <td>1105.280029</td>\n",
       "    </tr>\n",
       "    <tr>\n",
       "      <td>2017-11-30</td>\n",
       "      <td>1176.750000</td>\n",
       "    </tr>\n",
       "    <tr>\n",
       "      <td>2017-12-29</td>\n",
       "      <td>1169.469971</td>\n",
       "    </tr>\n",
       "    <tr>\n",
       "      <td>2018-01-31</td>\n",
       "      <td>1450.890015</td>\n",
       "    </tr>\n",
       "    <tr>\n",
       "      <td>2018-02-28</td>\n",
       "      <td>1512.449951</td>\n",
       "    </tr>\n",
       "    <tr>\n",
       "      <td>2018-03-30</td>\n",
       "      <td>1447.339966</td>\n",
       "    </tr>\n",
       "    <tr>\n",
       "      <td>2018-04-30</td>\n",
       "      <td>1566.130005</td>\n",
       "    </tr>\n",
       "    <tr>\n",
       "      <td>2018-05-31</td>\n",
       "      <td>1629.619995</td>\n",
       "    </tr>\n",
       "    <tr>\n",
       "      <td>2018-06-29</td>\n",
       "      <td>1699.800049</td>\n",
       "    </tr>\n",
       "    <tr>\n",
       "      <td>2018-07-31</td>\n",
       "      <td>1777.439941</td>\n",
       "    </tr>\n",
       "    <tr>\n",
       "      <td>2018-08-31</td>\n",
       "      <td>2012.709961</td>\n",
       "    </tr>\n",
       "    <tr>\n",
       "      <td>2018-09-28</td>\n",
       "      <td>2003.000000</td>\n",
       "    </tr>\n",
       "    <tr>\n",
       "      <td>2018-10-31</td>\n",
       "      <td>1598.010010</td>\n",
       "    </tr>\n",
       "    <tr>\n",
       "      <td>2018-11-30</td>\n",
       "      <td>1690.170044</td>\n",
       "    </tr>\n",
       "    <tr>\n",
       "      <td>2018-12-31</td>\n",
       "      <td>1501.969971</td>\n",
       "    </tr>\n",
       "    <tr>\n",
       "      <td>2019-01-31</td>\n",
       "      <td>1718.729980</td>\n",
       "    </tr>\n",
       "    <tr>\n",
       "      <td>2019-02-28</td>\n",
       "      <td>1639.829956</td>\n",
       "    </tr>\n",
       "    <tr>\n",
       "      <td>2019-03-29</td>\n",
       "      <td>1780.750000</td>\n",
       "    </tr>\n",
       "    <tr>\n",
       "      <td>2019-04-30</td>\n",
       "      <td>1926.520020</td>\n",
       "    </tr>\n",
       "    <tr>\n",
       "      <td>2019-05-31</td>\n",
       "      <td>1775.069946</td>\n",
       "    </tr>\n",
       "    <tr>\n",
       "      <td>2019-06-28</td>\n",
       "      <td>1893.630005</td>\n",
       "    </tr>\n",
       "    <tr>\n",
       "      <td>2019-07-31</td>\n",
       "      <td>1866.780029</td>\n",
       "    </tr>\n",
       "    <tr>\n",
       "      <td>2019-08-30</td>\n",
       "      <td>1776.290039</td>\n",
       "    </tr>\n",
       "    <tr>\n",
       "      <td>2019-09-30</td>\n",
       "      <td>1735.910034</td>\n",
       "    </tr>\n",
       "    <tr>\n",
       "      <td>2019-10-31</td>\n",
       "      <td>1776.660034</td>\n",
       "    </tr>\n",
       "    <tr>\n",
       "      <td>2019-11-29</td>\n",
       "      <td>1800.800049</td>\n",
       "    </tr>\n",
       "    <tr>\n",
       "      <td>2019-12-31</td>\n",
       "      <td>1846.890015</td>\n",
       "    </tr>\n",
       "  </tbody>\n",
       "</table>\n",
       "</div>"
      ],
      "text/plain": [
       "                 Amazon\n",
       "Date                   \n",
       "2015-01-30   354.529999\n",
       "2015-02-27   380.160004\n",
       "2015-03-31   372.100006\n",
       "2015-04-30   421.779999\n",
       "2015-05-29   429.230011\n",
       "2015-06-30   434.089996\n",
       "2015-07-31   536.150024\n",
       "2015-08-31   512.890015\n",
       "2015-09-30   511.890015\n",
       "2015-10-30   625.900024\n",
       "2015-11-30   664.799988\n",
       "2015-12-31   675.890015\n",
       "2016-01-29   587.000000\n",
       "2016-02-29   552.520020\n",
       "2016-03-31   593.640015\n",
       "2016-04-29   659.590027\n",
       "2016-05-31   722.789978\n",
       "2016-06-30   715.619995\n",
       "2016-07-29   758.809998\n",
       "2016-08-31   769.159973\n",
       "2016-09-30   837.309998\n",
       "2016-10-31   789.820007\n",
       "2016-11-30   750.570007\n",
       "2016-12-30   749.869995\n",
       "2017-01-31   823.479980\n",
       "2017-02-28   845.039978\n",
       "2017-03-31   886.539978\n",
       "2017-04-28   924.989990\n",
       "2017-05-31   994.619995\n",
       "2017-06-30   968.000000\n",
       "2017-07-31   987.780029\n",
       "2017-08-31   980.599976\n",
       "2017-09-29   961.349976\n",
       "2017-10-31  1105.280029\n",
       "2017-11-30  1176.750000\n",
       "2017-12-29  1169.469971\n",
       "2018-01-31  1450.890015\n",
       "2018-02-28  1512.449951\n",
       "2018-03-30  1447.339966\n",
       "2018-04-30  1566.130005\n",
       "2018-05-31  1629.619995\n",
       "2018-06-29  1699.800049\n",
       "2018-07-31  1777.439941\n",
       "2018-08-31  2012.709961\n",
       "2018-09-28  2003.000000\n",
       "2018-10-31  1598.010010\n",
       "2018-11-30  1690.170044\n",
       "2018-12-31  1501.969971\n",
       "2019-01-31  1718.729980\n",
       "2019-02-28  1639.829956\n",
       "2019-03-29  1780.750000\n",
       "2019-04-30  1926.520020\n",
       "2019-05-31  1775.069946\n",
       "2019-06-28  1893.630005\n",
       "2019-07-31  1866.780029\n",
       "2019-08-30  1776.290039\n",
       "2019-09-30  1735.910034\n",
       "2019-10-31  1776.660034\n",
       "2019-11-29  1800.800049\n",
       "2019-12-31  1846.890015"
      ]
     },
     "execution_count": 5,
     "metadata": {},
     "output_type": "execute_result"
    }
   ],
   "source": [
    "#Resample the data to get prices for the end of the business month.\n",
    "\n",
    "Amazon = Amazon.resample('BM').last()\n",
    "Amazon.head(100)\n"
   ]
  },
  {
   "cell_type": "markdown",
   "metadata": {},
   "source": [
    "Answer to Q4 for Amazon stock"
   ]
  },
  {
   "cell_type": "code",
   "execution_count": 6,
   "metadata": {},
   "outputs": [
    {
     "data": {
      "text/plain": [
       "<matplotlib.axes._subplots.AxesSubplot at 0x19c556eef08>"
      ]
     },
     "execution_count": 6,
     "metadata": {},
     "output_type": "execute_result"
    },
    {
     "data": {
      "image/png": "[encoded data removed]",
      "text/plain": [
       "<Figure size 432x288 with 1 Axes>"
      ]
     },
     "metadata": {
      "needs_background": "light"
     },
     "output_type": "display_data"
    }
   ],
   "source": [
    "autocorrelation_plot(Amazon)\n",
    "#Explanation: In month 1 - month 14, there is positive correlation. Strong positive correlation Month1-4, \n",
    "#medium positive correlation Month5-Month10. It means when stock price increase in that month, \n",
    "#it may continously increase for next 4-14 months\n",
    "# between month 14 - month 31, there is no correlation in stock price over time.\n",
    "#there is significant values between month 31 - month 45, show medium negative correlation.\n",
    "# Later on, there is no correlation in stock price over time."
   ]
  },
  {
   "cell_type": "markdown",
   "metadata": {},
   "source": [
    "Answer to Q5 for Amazon stock, Details see below\n",
    "#Conclusion: there is no correlation between months and Amazon Stock return\n",
    "#stock return is not related by the time"
   ]
  },
  {
   "cell_type": "code",
   "execution_count": 7,
   "metadata": {},
   "outputs": [
    {
     "data": {
      "text/html": [
       "<div>\n",
       "<style scoped>\n",
       "    .dataframe tbody tr th:only-of-type {\n",
       "        vertical-align: middle;\n",
       "    }\n",
       "\n",
       "    .dataframe tbody tr th {\n",
       "        vertical-align: top;\n",
       "    }\n",
       "\n",
       "    .dataframe thead th {\n",
       "        text-align: right;\n",
       "    }\n",
       "</style>\n",
       "<table border=\"1\" class=\"dataframe\">\n",
       "  <thead>\n",
       "    <tr style=\"text-align: right;\">\n",
       "      <th></th>\n",
       "      <th>Amazon</th>\n",
       "    </tr>\n",
       "    <tr>\n",
       "      <th>Date</th>\n",
       "      <th></th>\n",
       "    </tr>\n",
       "  </thead>\n",
       "  <tbody>\n",
       "    <tr>\n",
       "      <td>2015-01-30</td>\n",
       "      <td>NaN</td>\n",
       "    </tr>\n",
       "    <tr>\n",
       "      <td>2015-02-27</td>\n",
       "      <td>354.529999</td>\n",
       "    </tr>\n",
       "    <tr>\n",
       "      <td>2015-03-31</td>\n",
       "      <td>380.160004</td>\n",
       "    </tr>\n",
       "    <tr>\n",
       "      <td>2015-04-30</td>\n",
       "      <td>372.100006</td>\n",
       "    </tr>\n",
       "    <tr>\n",
       "      <td>2015-05-29</td>\n",
       "      <td>421.779999</td>\n",
       "    </tr>\n",
       "    <tr>\n",
       "      <td>2015-06-30</td>\n",
       "      <td>429.230011</td>\n",
       "    </tr>\n",
       "    <tr>\n",
       "      <td>2015-07-31</td>\n",
       "      <td>434.089996</td>\n",
       "    </tr>\n",
       "    <tr>\n",
       "      <td>2015-08-31</td>\n",
       "      <td>536.150024</td>\n",
       "    </tr>\n",
       "    <tr>\n",
       "      <td>2015-09-30</td>\n",
       "      <td>512.890015</td>\n",
       "    </tr>\n",
       "    <tr>\n",
       "      <td>2015-10-30</td>\n",
       "      <td>511.890015</td>\n",
       "    </tr>\n",
       "  </tbody>\n",
       "</table>\n",
       "</div>"
      ],
      "text/plain": [
       "                Amazon\n",
       "Date                  \n",
       "2015-01-30         NaN\n",
       "2015-02-27  354.529999\n",
       "2015-03-31  380.160004\n",
       "2015-04-30  372.100006\n",
       "2015-05-29  421.779999\n",
       "2015-06-30  429.230011\n",
       "2015-07-31  434.089996\n",
       "2015-08-31  536.150024\n",
       "2015-09-30  512.890015\n",
       "2015-10-30  511.890015"
      ]
     },
     "execution_count": 7,
     "metadata": {},
     "output_type": "execute_result"
    }
   ],
   "source": [
    "AmazonMonth=Amazon\n",
    "AmazonMonthLater=Amazon.shift(1)\n",
    "AmazonMonthLater.head(10)"
   ]
  },
  {
   "cell_type": "code",
   "execution_count": 8,
   "metadata": {},
   "outputs": [
    {
     "data": {
      "text/html": [
       "<div>\n",
       "<style scoped>\n",
       "    .dataframe tbody tr th:only-of-type {\n",
       "        vertical-align: middle;\n",
       "    }\n",
       "\n",
       "    .dataframe tbody tr th {\n",
       "        vertical-align: top;\n",
       "    }\n",
       "\n",
       "    .dataframe thead th {\n",
       "        text-align: right;\n",
       "    }\n",
       "</style>\n",
       "<table border=\"1\" class=\"dataframe\">\n",
       "  <thead>\n",
       "    <tr style=\"text-align: right;\">\n",
       "      <th></th>\n",
       "      <th>Amazon</th>\n",
       "    </tr>\n",
       "    <tr>\n",
       "      <th>Date</th>\n",
       "      <th></th>\n",
       "    </tr>\n",
       "  </thead>\n",
       "  <tbody>\n",
       "    <tr>\n",
       "      <td>2015-02-27</td>\n",
       "      <td>0.072293</td>\n",
       "    </tr>\n",
       "    <tr>\n",
       "      <td>2015-03-31</td>\n",
       "      <td>-0.021202</td>\n",
       "    </tr>\n",
       "    <tr>\n",
       "      <td>2015-04-30</td>\n",
       "      <td>0.133512</td>\n",
       "    </tr>\n",
       "    <tr>\n",
       "      <td>2015-05-29</td>\n",
       "      <td>0.017663</td>\n",
       "    </tr>\n",
       "    <tr>\n",
       "      <td>2015-06-30</td>\n",
       "      <td>0.011323</td>\n",
       "    </tr>\n",
       "  </tbody>\n",
       "</table>\n",
       "</div>"
      ],
      "text/plain": [
       "              Amazon\n",
       "Date                \n",
       "2015-02-27  0.072293\n",
       "2015-03-31 -0.021202\n",
       "2015-04-30  0.133512\n",
       "2015-05-29  0.017663\n",
       "2015-06-30  0.011323"
      ]
     },
     "execution_count": 8,
     "metadata": {},
     "output_type": "execute_result"
    }
   ],
   "source": [
    "#Get Amazon Return\n",
    "AmazonRtn=AmazonMonth/AmazonMonthLater-1\n",
    "#Drop Month1 NaN record\n",
    "AmazonRtn=AmazonRtn.dropna()\n",
    "AmazonRtn.head()"
   ]
  },
  {
   "cell_type": "code",
   "execution_count": 9,
   "metadata": {},
   "outputs": [
    {
     "data": {
      "text/plain": [
       "<matplotlib.axes._subplots.AxesSubplot at 0x19c55b5bd48>"
      ]
     },
     "execution_count": 9,
     "metadata": {},
     "output_type": "execute_result"
    },
    {
     "data": {
      "image/png": "[encoded data removed]",
      "text/plain": [
       "<Figure size 432x288 with 1 Axes>"
      ]
     },
     "metadata": {
      "needs_background": "light"
     },
     "output_type": "display_data"
    }
   ],
   "source": [
    "#autocorrelation plot for Amazon return\n",
    "autocorrelation_plot(AmazonRtn)\n",
    "#Conclusion: there is no correlation between Amazon Stock return over time"
   ]
  },
  {
   "cell_type": "markdown",
   "metadata": {},
   "source": [
    "Answer to Q2 for facebook stock"
   ]
  },
  {
   "cell_type": "code",
   "execution_count": 10,
   "metadata": {},
   "outputs": [
    {
     "name": "stdout",
     "output_type": "stream",
     "text": [
      "[*********************100%***********************]  1 of 1 completed\n"
     ]
    },
    {
     "data": {
      "text/html": [
       "<div>\n",
       "<style scoped>\n",
       "    .dataframe tbody tr th:only-of-type {\n",
       "        vertical-align: middle;\n",
       "    }\n",
       "\n",
       "    .dataframe tbody tr th {\n",
       "        vertical-align: top;\n",
       "    }\n",
       "\n",
       "    .dataframe thead th {\n",
       "        text-align: right;\n",
       "    }\n",
       "</style>\n",
       "<table border=\"1\" class=\"dataframe\">\n",
       "  <thead>\n",
       "    <tr style=\"text-align: right;\">\n",
       "      <th></th>\n",
       "      <th>Adj Close</th>\n",
       "    </tr>\n",
       "    <tr>\n",
       "      <th>Date</th>\n",
       "      <th></th>\n",
       "    </tr>\n",
       "  </thead>\n",
       "  <tbody>\n",
       "    <tr>\n",
       "      <td>2015-01-02</td>\n",
       "      <td>78.449997</td>\n",
       "    </tr>\n",
       "    <tr>\n",
       "      <td>2015-01-05</td>\n",
       "      <td>77.190002</td>\n",
       "    </tr>\n",
       "    <tr>\n",
       "      <td>2015-01-06</td>\n",
       "      <td>76.150002</td>\n",
       "    </tr>\n",
       "    <tr>\n",
       "      <td>2015-01-07</td>\n",
       "      <td>76.150002</td>\n",
       "    </tr>\n",
       "    <tr>\n",
       "      <td>2015-01-08</td>\n",
       "      <td>78.180000</td>\n",
       "    </tr>\n",
       "    <tr>\n",
       "      <td>2015-01-09</td>\n",
       "      <td>77.739998</td>\n",
       "    </tr>\n",
       "    <tr>\n",
       "      <td>2015-01-12</td>\n",
       "      <td>76.720001</td>\n",
       "    </tr>\n",
       "    <tr>\n",
       "      <td>2015-01-13</td>\n",
       "      <td>76.449997</td>\n",
       "    </tr>\n",
       "    <tr>\n",
       "      <td>2015-01-14</td>\n",
       "      <td>76.279999</td>\n",
       "    </tr>\n",
       "    <tr>\n",
       "      <td>2015-01-15</td>\n",
       "      <td>74.050003</td>\n",
       "    </tr>\n",
       "  </tbody>\n",
       "</table>\n",
       "</div>"
      ],
      "text/plain": [
       "            Adj Close\n",
       "Date                 \n",
       "2015-01-02  78.449997\n",
       "2015-01-05  77.190002\n",
       "2015-01-06  76.150002\n",
       "2015-01-07  76.150002\n",
       "2015-01-08  78.180000\n",
       "2015-01-09  77.739998\n",
       "2015-01-12  76.720001\n",
       "2015-01-13  76.449997\n",
       "2015-01-14  76.279999\n",
       "2015-01-15  74.050003"
      ]
     },
     "execution_count": 10,
     "metadata": {},
     "output_type": "execute_result"
    }
   ],
   "source": [
    "#60 Months Facebook Adj Close data\n",
    "Facebook = yf.download('FB',start='2015-01-01',end='2019-12-31')['Adj Close']\n",
    "Facebook=pd.DataFrame(Facebook)\n",
    "Facebook.head(10)\n"
   ]
  },
  {
   "cell_type": "markdown",
   "metadata": {},
   "source": [
    "Answer to Q3 for facebook stock"
   ]
  },
  {
   "cell_type": "code",
   "execution_count": 11,
   "metadata": {},
   "outputs": [
    {
     "data": {
      "text/html": [
       "<div>\n",
       "<style scoped>\n",
       "    .dataframe tbody tr th:only-of-type {\n",
       "        vertical-align: middle;\n",
       "    }\n",
       "\n",
       "    .dataframe tbody tr th {\n",
       "        vertical-align: top;\n",
       "    }\n",
       "\n",
       "    .dataframe thead th {\n",
       "        text-align: right;\n",
       "    }\n",
       "</style>\n",
       "<table border=\"1\" class=\"dataframe\">\n",
       "  <thead>\n",
       "    <tr style=\"text-align: right;\">\n",
       "      <th></th>\n",
       "      <th>Facebook</th>\n",
       "    </tr>\n",
       "    <tr>\n",
       "      <th>Date</th>\n",
       "      <th></th>\n",
       "    </tr>\n",
       "  </thead>\n",
       "  <tbody>\n",
       "    <tr>\n",
       "      <td>2015-01-30</td>\n",
       "      <td>75.910004</td>\n",
       "    </tr>\n",
       "    <tr>\n",
       "      <td>2015-02-27</td>\n",
       "      <td>78.970001</td>\n",
       "    </tr>\n",
       "    <tr>\n",
       "      <td>2015-03-31</td>\n",
       "      <td>82.220001</td>\n",
       "    </tr>\n",
       "    <tr>\n",
       "      <td>2015-04-30</td>\n",
       "      <td>78.769997</td>\n",
       "    </tr>\n",
       "    <tr>\n",
       "      <td>2015-05-29</td>\n",
       "      <td>79.190002</td>\n",
       "    </tr>\n",
       "    <tr>\n",
       "      <td>2015-06-30</td>\n",
       "      <td>85.769997</td>\n",
       "    </tr>\n",
       "    <tr>\n",
       "      <td>2015-07-31</td>\n",
       "      <td>94.010002</td>\n",
       "    </tr>\n",
       "    <tr>\n",
       "      <td>2015-08-31</td>\n",
       "      <td>89.430000</td>\n",
       "    </tr>\n",
       "    <tr>\n",
       "      <td>2015-09-30</td>\n",
       "      <td>89.900002</td>\n",
       "    </tr>\n",
       "    <tr>\n",
       "      <td>2015-10-30</td>\n",
       "      <td>101.970001</td>\n",
       "    </tr>\n",
       "  </tbody>\n",
       "</table>\n",
       "</div>"
      ],
      "text/plain": [
       "              Facebook\n",
       "Date                  \n",
       "2015-01-30   75.910004\n",
       "2015-02-27   78.970001\n",
       "2015-03-31   82.220001\n",
       "2015-04-30   78.769997\n",
       "2015-05-29   79.190002\n",
       "2015-06-30   85.769997\n",
       "2015-07-31   94.010002\n",
       "2015-08-31   89.430000\n",
       "2015-09-30   89.900002\n",
       "2015-10-30  101.970001"
      ]
     },
     "execution_count": 11,
     "metadata": {},
     "output_type": "execute_result"
    }
   ],
   "source": [
    "Facebook=Facebook.rename(columns={\"Adj Close\": \"Facebook\"})\n",
    "#Resample the data to get prices for the end of the business month.\n",
    "Facebook = Facebook.resample('BM').last()\n",
    "Facebook.head(10)"
   ]
  },
  {
   "cell_type": "markdown",
   "metadata": {},
   "source": [
    "Answer to Q4 for facebook stock\n",
    "#Explanation: In month 1 - month 9, there is positive correlation between the Facebook stock price over time,In month 1 - 3, there is strong positive correlation stock price over time, \n",
    ",In month 4 - 9, there is weak positive correlation stock price over time,\n",
    ",Later months, there is no correlation between Facebook stock price over time"
   ]
  },
  {
   "cell_type": "code",
   "execution_count": 12,
   "metadata": {},
   "outputs": [
    {
     "data": {
      "text/plain": [
       "<matplotlib.axes._subplots.AxesSubplot at 0x19c55bfb748>"
      ]
     },
     "execution_count": 12,
     "metadata": {},
     "output_type": "execute_result"
    },
    {
     "data": {
      "image/png": "[encoded data removed]",
      "text/plain": [
       "<Figure size 432x288 with 1 Axes>"
      ]
     },
     "metadata": {
      "needs_background": "light"
     },
     "output_type": "display_data"
    }
   ],
   "source": [
    "autocorrelation_plot(Facebook)\n",
    "#Explanation: In month 1 - month 9, there is positive correlation between the Facebook stock price over time\n",
    "# In month 1 - 3, there is strong positive correlation stock price over time, \n",
    "# In month 4 - 9, there is weak positive correlation stock price over time,\n",
    "# Later months, there is no correlation between Facebook stock price over time"
   ]
  },
  {
   "cell_type": "markdown",
   "metadata": {},
   "source": [
    "Answer to Q5 for facebook stock, Details see below\n",
    "#Conclusion: there is no correlation on Facebook Stock return over time"
   ]
  },
  {
   "cell_type": "code",
   "execution_count": 13,
   "metadata": {},
   "outputs": [
    {
     "data": {
      "text/html": [
       "<div>\n",
       "<style scoped>\n",
       "    .dataframe tbody tr th:only-of-type {\n",
       "        vertical-align: middle;\n",
       "    }\n",
       "\n",
       "    .dataframe tbody tr th {\n",
       "        vertical-align: top;\n",
       "    }\n",
       "\n",
       "    .dataframe thead th {\n",
       "        text-align: right;\n",
       "    }\n",
       "</style>\n",
       "<table border=\"1\" class=\"dataframe\">\n",
       "  <thead>\n",
       "    <tr style=\"text-align: right;\">\n",
       "      <th></th>\n",
       "      <th>Facebook</th>\n",
       "    </tr>\n",
       "    <tr>\n",
       "      <th>Date</th>\n",
       "      <th></th>\n",
       "    </tr>\n",
       "  </thead>\n",
       "  <tbody>\n",
       "    <tr>\n",
       "      <td>2015-01-30</td>\n",
       "      <td>NaN</td>\n",
       "    </tr>\n",
       "    <tr>\n",
       "      <td>2015-02-27</td>\n",
       "      <td>75.910004</td>\n",
       "    </tr>\n",
       "    <tr>\n",
       "      <td>2015-03-31</td>\n",
       "      <td>78.970001</td>\n",
       "    </tr>\n",
       "    <tr>\n",
       "      <td>2015-04-30</td>\n",
       "      <td>82.220001</td>\n",
       "    </tr>\n",
       "    <tr>\n",
       "      <td>2015-05-29</td>\n",
       "      <td>78.769997</td>\n",
       "    </tr>\n",
       "    <tr>\n",
       "      <td>2015-06-30</td>\n",
       "      <td>79.190002</td>\n",
       "    </tr>\n",
       "    <tr>\n",
       "      <td>2015-07-31</td>\n",
       "      <td>85.769997</td>\n",
       "    </tr>\n",
       "    <tr>\n",
       "      <td>2015-08-31</td>\n",
       "      <td>94.010002</td>\n",
       "    </tr>\n",
       "    <tr>\n",
       "      <td>2015-09-30</td>\n",
       "      <td>89.430000</td>\n",
       "    </tr>\n",
       "    <tr>\n",
       "      <td>2015-10-30</td>\n",
       "      <td>89.900002</td>\n",
       "    </tr>\n",
       "  </tbody>\n",
       "</table>\n",
       "</div>"
      ],
      "text/plain": [
       "             Facebook\n",
       "Date                 \n",
       "2015-01-30        NaN\n",
       "2015-02-27  75.910004\n",
       "2015-03-31  78.970001\n",
       "2015-04-30  82.220001\n",
       "2015-05-29  78.769997\n",
       "2015-06-30  79.190002\n",
       "2015-07-31  85.769997\n",
       "2015-08-31  94.010002\n",
       "2015-09-30  89.430000\n",
       "2015-10-30  89.900002"
      ]
     },
     "execution_count": 13,
     "metadata": {},
     "output_type": "execute_result"
    }
   ],
   "source": [
    "FacebookMonth=Facebook\n",
    "FacebookMonthLater=Facebook.shift(1)\n",
    "FacebookMonthLater.head(10)"
   ]
  },
  {
   "cell_type": "code",
   "execution_count": 14,
   "metadata": {},
   "outputs": [
    {
     "data": {
      "text/html": [
       "<div>\n",
       "<style scoped>\n",
       "    .dataframe tbody tr th:only-of-type {\n",
       "        vertical-align: middle;\n",
       "    }\n",
       "\n",
       "    .dataframe tbody tr th {\n",
       "        vertical-align: top;\n",
       "    }\n",
       "\n",
       "    .dataframe thead th {\n",
       "        text-align: right;\n",
       "    }\n",
       "</style>\n",
       "<table border=\"1\" class=\"dataframe\">\n",
       "  <thead>\n",
       "    <tr style=\"text-align: right;\">\n",
       "      <th></th>\n",
       "      <th>Facebook</th>\n",
       "    </tr>\n",
       "    <tr>\n",
       "      <th>Date</th>\n",
       "      <th></th>\n",
       "    </tr>\n",
       "  </thead>\n",
       "  <tbody>\n",
       "    <tr>\n",
       "      <td>2015-02-27</td>\n",
       "      <td>0.040311</td>\n",
       "    </tr>\n",
       "    <tr>\n",
       "      <td>2015-03-31</td>\n",
       "      <td>0.041155</td>\n",
       "    </tr>\n",
       "    <tr>\n",
       "      <td>2015-04-30</td>\n",
       "      <td>-0.041961</td>\n",
       "    </tr>\n",
       "    <tr>\n",
       "      <td>2015-05-29</td>\n",
       "      <td>0.005332</td>\n",
       "    </tr>\n",
       "    <tr>\n",
       "      <td>2015-06-30</td>\n",
       "      <td>0.083091</td>\n",
       "    </tr>\n",
       "  </tbody>\n",
       "</table>\n",
       "</div>"
      ],
      "text/plain": [
       "            Facebook\n",
       "Date                \n",
       "2015-02-27  0.040311\n",
       "2015-03-31  0.041155\n",
       "2015-04-30 -0.041961\n",
       "2015-05-29  0.005332\n",
       "2015-06-30  0.083091"
      ]
     },
     "execution_count": 14,
     "metadata": {},
     "output_type": "execute_result"
    }
   ],
   "source": [
    "#Get the return\n",
    "FacebookRtn=FacebookMonth/FacebookMonthLater-1\n",
    "#Drop Month1 NaN record\n",
    "FacebookRtn=FacebookRtn.dropna()\n",
    "FacebookRtn.head()"
   ]
  },
  {
   "cell_type": "code",
   "execution_count": 15,
   "metadata": {},
   "outputs": [
    {
     "data": {
      "text/plain": [
       "<matplotlib.axes._subplots.AxesSubplot at 0x19c55c74688>"
      ]
     },
     "execution_count": 15,
     "metadata": {},
     "output_type": "execute_result"
    },
    {
     "data": {
      "image/png": "[encoded data removed]",
      "text/plain": [
       "<Figure size 432x288 with 1 Axes>"
      ]
     },
     "metadata": {
      "needs_background": "light"
     },
     "output_type": "display_data"
    }
   ],
   "source": [
    "autocorrelation_plot(FacebookRtn)\n",
    "#Conclusion: there is no correlation on Facebook Stock return over time"
   ]
  },
  {
   "cell_type": "markdown",
   "metadata": {},
   "source": [
    "Answer to Q1 for IBM Stock"
   ]
  },
  {
   "cell_type": "code",
   "execution_count": 16,
   "metadata": {},
   "outputs": [
    {
     "name": "stdout",
     "output_type": "stream",
     "text": [
      "[*********************100%***********************]  1 of 1 completed\n"
     ]
    },
    {
     "data": {
      "text/html": [
       "<div>\n",
       "<style scoped>\n",
       "    .dataframe tbody tr th:only-of-type {\n",
       "        vertical-align: middle;\n",
       "    }\n",
       "\n",
       "    .dataframe tbody tr th {\n",
       "        vertical-align: top;\n",
       "    }\n",
       "\n",
       "    .dataframe thead th {\n",
       "        text-align: right;\n",
       "    }\n",
       "</style>\n",
       "<table border=\"1\" class=\"dataframe\">\n",
       "  <thead>\n",
       "    <tr style=\"text-align: right;\">\n",
       "      <th></th>\n",
       "      <th>Adj Close</th>\n",
       "    </tr>\n",
       "    <tr>\n",
       "      <th>Date</th>\n",
       "      <th></th>\n",
       "    </tr>\n",
       "  </thead>\n",
       "  <tbody>\n",
       "    <tr>\n",
       "      <td>2015-01-02</td>\n",
       "      <td>129.241516</td>\n",
       "    </tr>\n",
       "    <tr>\n",
       "      <td>2015-01-05</td>\n",
       "      <td>127.207932</td>\n",
       "    </tr>\n",
       "    <tr>\n",
       "      <td>2015-01-06</td>\n",
       "      <td>124.464600</td>\n",
       "    </tr>\n",
       "    <tr>\n",
       "      <td>2015-01-07</td>\n",
       "      <td>123.651100</td>\n",
       "    </tr>\n",
       "    <tr>\n",
       "      <td>2015-01-08</td>\n",
       "      <td>126.338654</td>\n",
       "    </tr>\n",
       "    <tr>\n",
       "      <td>2015-01-09</td>\n",
       "      <td>126.888924</td>\n",
       "    </tr>\n",
       "    <tr>\n",
       "      <td>2015-01-12</td>\n",
       "      <td>124.759621</td>\n",
       "    </tr>\n",
       "    <tr>\n",
       "      <td>2015-01-13</td>\n",
       "      <td>125.054688</td>\n",
       "    </tr>\n",
       "    <tr>\n",
       "      <td>2015-01-14</td>\n",
       "      <td>124.249229</td>\n",
       "    </tr>\n",
       "    <tr>\n",
       "      <td>2015-01-15</td>\n",
       "      <td>123.268295</td>\n",
       "    </tr>\n",
       "  </tbody>\n",
       "</table>\n",
       "</div>"
      ],
      "text/plain": [
       "             Adj Close\n",
       "Date                  \n",
       "2015-01-02  129.241516\n",
       "2015-01-05  127.207932\n",
       "2015-01-06  124.464600\n",
       "2015-01-07  123.651100\n",
       "2015-01-08  126.338654\n",
       "2015-01-09  126.888924\n",
       "2015-01-12  124.759621\n",
       "2015-01-13  125.054688\n",
       "2015-01-14  124.249229\n",
       "2015-01-15  123.268295"
      ]
     },
     "execution_count": 16,
     "metadata": {},
     "output_type": "execute_result"
    }
   ],
   "source": [
    "#60 Months IBM Adj Close data\n",
    "IBM = yf.download('IBM',start='2015-01-01',end='2019-12-31')['Adj Close']\n",
    "IBM=pd.DataFrame(IBM)\n",
    "IBM.head(10)"
   ]
  },
  {
   "cell_type": "markdown",
   "metadata": {},
   "source": [
    "Answer to Q2 for IBM Stock"
   ]
  },
  {
   "cell_type": "code",
   "execution_count": 17,
   "metadata": {},
   "outputs": [
    {
     "data": {
      "text/html": [
       "<div>\n",
       "<style scoped>\n",
       "    .dataframe tbody tr th:only-of-type {\n",
       "        vertical-align: middle;\n",
       "    }\n",
       "\n",
       "    .dataframe tbody tr th {\n",
       "        vertical-align: top;\n",
       "    }\n",
       "\n",
       "    .dataframe thead th {\n",
       "        text-align: right;\n",
       "    }\n",
       "</style>\n",
       "<table border=\"1\" class=\"dataframe\">\n",
       "  <thead>\n",
       "    <tr style=\"text-align: right;\">\n",
       "      <th></th>\n",
       "      <th>IBM</th>\n",
       "    </tr>\n",
       "    <tr>\n",
       "      <th>Date</th>\n",
       "      <th></th>\n",
       "    </tr>\n",
       "  </thead>\n",
       "  <tbody>\n",
       "    <tr>\n",
       "      <td>2015-01-30</td>\n",
       "      <td>122.263451</td>\n",
       "    </tr>\n",
       "    <tr>\n",
       "      <td>2015-02-27</td>\n",
       "      <td>130.051773</td>\n",
       "    </tr>\n",
       "    <tr>\n",
       "      <td>2015-03-31</td>\n",
       "      <td>128.895309</td>\n",
       "    </tr>\n",
       "    <tr>\n",
       "      <td>2015-04-30</td>\n",
       "      <td>137.560608</td>\n",
       "    </tr>\n",
       "    <tr>\n",
       "      <td>2015-05-29</td>\n",
       "      <td>138.332123</td>\n",
       "    </tr>\n",
       "    <tr>\n",
       "      <td>2015-06-30</td>\n",
       "      <td>132.632507</td>\n",
       "    </tr>\n",
       "    <tr>\n",
       "      <td>2015-07-31</td>\n",
       "      <td>132.086212</td>\n",
       "    </tr>\n",
       "    <tr>\n",
       "      <td>2015-08-31</td>\n",
       "      <td>121.590149</td>\n",
       "    </tr>\n",
       "    <tr>\n",
       "      <td>2015-09-30</td>\n",
       "      <td>119.189430</td>\n",
       "    </tr>\n",
       "    <tr>\n",
       "      <td>2015-10-30</td>\n",
       "      <td>115.169029</td>\n",
       "    </tr>\n",
       "  </tbody>\n",
       "</table>\n",
       "</div>"
      ],
      "text/plain": [
       "                   IBM\n",
       "Date                  \n",
       "2015-01-30  122.263451\n",
       "2015-02-27  130.051773\n",
       "2015-03-31  128.895309\n",
       "2015-04-30  137.560608\n",
       "2015-05-29  138.332123\n",
       "2015-06-30  132.632507\n",
       "2015-07-31  132.086212\n",
       "2015-08-31  121.590149\n",
       "2015-09-30  119.189430\n",
       "2015-10-30  115.169029"
      ]
     },
     "execution_count": 17,
     "metadata": {},
     "output_type": "execute_result"
    }
   ],
   "source": [
    "IBM=IBM.rename(columns={\"Adj Close\": \"IBM\"})\n",
    "#Resample the data to get prices for the end of the business month.\n",
    "IBM = IBM.resample('BM').last()\n",
    "IBM.head(10)"
   ]
  },
  {
   "cell_type": "markdown",
   "metadata": {},
   "source": [
    "Answer to Q3 for IBM Stock\n",
    "#Explanation: In month 1 - month 2, there is weak positive correlation on the IBM stock price over time,Later on, there is no correlation on IBM stock price over time"
   ]
  },
  {
   "cell_type": "code",
   "execution_count": 18,
   "metadata": {},
   "outputs": [
    {
     "data": {
      "text/plain": [
       "<matplotlib.axes._subplots.AxesSubplot at 0x19c56cdc748>"
      ]
     },
     "execution_count": 18,
     "metadata": {},
     "output_type": "execute_result"
    },
    {
     "data": {
      "image/png": "[encoded data removed]",
      "text/plain": [
       "<Figure size 432x288 with 1 Axes>"
      ]
     },
     "metadata": {
      "needs_background": "light"
     },
     "output_type": "display_data"
    }
   ],
   "source": [
    "# Autocorrelation plot for IBM\n",
    "autocorrelation_plot(IBM)\n",
    "#Explanation: In month 1 - month 2, there is weak positive correlation on the IBM stock price over time\n",
    "# Later on, there is no correlation between IBM stock price and time"
   ]
  },
  {
   "cell_type": "markdown",
   "metadata": {},
   "source": [
    "Answer to Q5 for IBM Stock, Conclusion: there is no correlation on  IBM Stock return over time"
   ]
  },
  {
   "cell_type": "code",
   "execution_count": 19,
   "metadata": {},
   "outputs": [
    {
     "data": {
      "text/html": [
       "<div>\n",
       "<style scoped>\n",
       "    .dataframe tbody tr th:only-of-type {\n",
       "        vertical-align: middle;\n",
       "    }\n",
       "\n",
       "    .dataframe tbody tr th {\n",
       "        vertical-align: top;\n",
       "    }\n",
       "\n",
       "    .dataframe thead th {\n",
       "        text-align: right;\n",
       "    }\n",
       "</style>\n",
       "<table border=\"1\" class=\"dataframe\">\n",
       "  <thead>\n",
       "    <tr style=\"text-align: right;\">\n",
       "      <th></th>\n",
       "      <th>IBM</th>\n",
       "    </tr>\n",
       "    <tr>\n",
       "      <th>Date</th>\n",
       "      <th></th>\n",
       "    </tr>\n",
       "  </thead>\n",
       "  <tbody>\n",
       "    <tr>\n",
       "      <td>2015-01-30</td>\n",
       "      <td>NaN</td>\n",
       "    </tr>\n",
       "    <tr>\n",
       "      <td>2015-02-27</td>\n",
       "      <td>122.263451</td>\n",
       "    </tr>\n",
       "    <tr>\n",
       "      <td>2015-03-31</td>\n",
       "      <td>130.051773</td>\n",
       "    </tr>\n",
       "    <tr>\n",
       "      <td>2015-04-30</td>\n",
       "      <td>128.895309</td>\n",
       "    </tr>\n",
       "    <tr>\n",
       "      <td>2015-05-29</td>\n",
       "      <td>137.560608</td>\n",
       "    </tr>\n",
       "    <tr>\n",
       "      <td>2015-06-30</td>\n",
       "      <td>138.332123</td>\n",
       "    </tr>\n",
       "    <tr>\n",
       "      <td>2015-07-31</td>\n",
       "      <td>132.632507</td>\n",
       "    </tr>\n",
       "    <tr>\n",
       "      <td>2015-08-31</td>\n",
       "      <td>132.086212</td>\n",
       "    </tr>\n",
       "    <tr>\n",
       "      <td>2015-09-30</td>\n",
       "      <td>121.590149</td>\n",
       "    </tr>\n",
       "    <tr>\n",
       "      <td>2015-10-30</td>\n",
       "      <td>119.189430</td>\n",
       "    </tr>\n",
       "  </tbody>\n",
       "</table>\n",
       "</div>"
      ],
      "text/plain": [
       "                   IBM\n",
       "Date                  \n",
       "2015-01-30         NaN\n",
       "2015-02-27  122.263451\n",
       "2015-03-31  130.051773\n",
       "2015-04-30  128.895309\n",
       "2015-05-29  137.560608\n",
       "2015-06-30  138.332123\n",
       "2015-07-31  132.632507\n",
       "2015-08-31  132.086212\n",
       "2015-09-30  121.590149\n",
       "2015-10-30  119.189430"
      ]
     },
     "execution_count": 19,
     "metadata": {},
     "output_type": "execute_result"
    }
   ],
   "source": [
    "IBMMonth=IBM\n",
    "IBMMonthLater=IBM.shift(1)\n",
    "IBMMonthLater.head(10)"
   ]
  },
  {
   "cell_type": "code",
   "execution_count": 20,
   "metadata": {},
   "outputs": [
    {
     "data": {
      "text/html": [
       "<div>\n",
       "<style scoped>\n",
       "    .dataframe tbody tr th:only-of-type {\n",
       "        vertical-align: middle;\n",
       "    }\n",
       "\n",
       "    .dataframe tbody tr th {\n",
       "        vertical-align: top;\n",
       "    }\n",
       "\n",
       "    .dataframe thead th {\n",
       "        text-align: right;\n",
       "    }\n",
       "</style>\n",
       "<table border=\"1\" class=\"dataframe\">\n",
       "  <thead>\n",
       "    <tr style=\"text-align: right;\">\n",
       "      <th></th>\n",
       "      <th>IBM</th>\n",
       "    </tr>\n",
       "    <tr>\n",
       "      <th>Date</th>\n",
       "      <th></th>\n",
       "    </tr>\n",
       "  </thead>\n",
       "  <tbody>\n",
       "    <tr>\n",
       "      <td>2015-02-27</td>\n",
       "      <td>0.063701</td>\n",
       "    </tr>\n",
       "    <tr>\n",
       "      <td>2015-03-31</td>\n",
       "      <td>-0.008892</td>\n",
       "    </tr>\n",
       "    <tr>\n",
       "      <td>2015-04-30</td>\n",
       "      <td>0.067227</td>\n",
       "    </tr>\n",
       "    <tr>\n",
       "      <td>2015-05-29</td>\n",
       "      <td>0.005609</td>\n",
       "    </tr>\n",
       "    <tr>\n",
       "      <td>2015-06-30</td>\n",
       "      <td>-0.041202</td>\n",
       "    </tr>\n",
       "  </tbody>\n",
       "</table>\n",
       "</div>"
      ],
      "text/plain": [
       "                 IBM\n",
       "Date                \n",
       "2015-02-27  0.063701\n",
       "2015-03-31 -0.008892\n",
       "2015-04-30  0.067227\n",
       "2015-05-29  0.005609\n",
       "2015-06-30 -0.041202"
      ]
     },
     "execution_count": 20,
     "metadata": {},
     "output_type": "execute_result"
    }
   ],
   "source": [
    "#Get the return\n",
    "IBMRtn=IBMMonth/IBMMonthLater-1\n",
    "#Drop Month1 NaN record\n",
    "IBMRtn=IBMRtn.dropna()\n",
    "IBMRtn.head()"
   ]
  },
  {
   "cell_type": "code",
   "execution_count": 21,
   "metadata": {},
   "outputs": [
    {
     "data": {
      "text/plain": [
       "<matplotlib.axes._subplots.AxesSubplot at 0x19c56d55348>"
      ]
     },
     "execution_count": 21,
     "metadata": {},
     "output_type": "execute_result"
    },
    {
     "data": {
      "image/png": "[encoded data removed]",
      "text/plain": [
       "<Figure size 432x288 with 1 Axes>"
      ]
     },
     "metadata": {
      "needs_background": "light"
     },
     "output_type": "display_data"
    }
   ],
   "source": [
    "autocorrelation_plot(IBMRtn)\n",
    "#Conclusion: there is no correlation on IBM Stock return over time"
   ]
  },
  {
   "cell_type": "markdown",
   "metadata": {},
   "source": [
    "Answer to Q2 for stock MMM"
   ]
  },
  {
   "cell_type": "code",
   "execution_count": 22,
   "metadata": {},
   "outputs": [
    {
     "name": "stdout",
     "output_type": "stream",
     "text": [
      "[*********************100%***********************]  1 of 1 completed\n"
     ]
    }
   ],
   "source": [
    "#60 Months MMM Adj Close data\n",
    "MMM = yf.download('MMM',start='2015-01-01',end='2019-12-31')['Adj Close']\n",
    "MMM = pd.DataFrame(MMM)"
   ]
  },
  {
   "cell_type": "markdown",
   "metadata": {},
   "source": [
    "Answer to Q3 for stock MMM"
   ]
  },
  {
   "cell_type": "code",
   "execution_count": 23,
   "metadata": {},
   "outputs": [
    {
     "data": {
      "text/html": [
       "<div>\n",
       "<style scoped>\n",
       "    .dataframe tbody tr th:only-of-type {\n",
       "        vertical-align: middle;\n",
       "    }\n",
       "\n",
       "    .dataframe tbody tr th {\n",
       "        vertical-align: top;\n",
       "    }\n",
       "\n",
       "    .dataframe thead th {\n",
       "        text-align: right;\n",
       "    }\n",
       "</style>\n",
       "<table border=\"1\" class=\"dataframe\">\n",
       "  <thead>\n",
       "    <tr style=\"text-align: right;\">\n",
       "      <th></th>\n",
       "      <th>MMM</th>\n",
       "    </tr>\n",
       "    <tr>\n",
       "      <th>Date</th>\n",
       "      <th></th>\n",
       "    </tr>\n",
       "  </thead>\n",
       "  <tbody>\n",
       "    <tr>\n",
       "      <td>2015-01-30</td>\n",
       "      <td>140.537079</td>\n",
       "    </tr>\n",
       "    <tr>\n",
       "      <td>2015-02-27</td>\n",
       "      <td>146.943909</td>\n",
       "    </tr>\n",
       "    <tr>\n",
       "      <td>2015-03-31</td>\n",
       "      <td>143.720108</td>\n",
       "    </tr>\n",
       "    <tr>\n",
       "      <td>2015-04-30</td>\n",
       "      <td>136.261826</td>\n",
       "    </tr>\n",
       "    <tr>\n",
       "      <td>2015-05-29</td>\n",
       "      <td>139.482086</td>\n",
       "    </tr>\n",
       "    <tr>\n",
       "      <td>2015-06-30</td>\n",
       "      <td>135.290970</td>\n",
       "    </tr>\n",
       "    <tr>\n",
       "      <td>2015-07-31</td>\n",
       "      <td>132.695602</td>\n",
       "    </tr>\n",
       "    <tr>\n",
       "      <td>2015-08-31</td>\n",
       "      <td>125.496330</td>\n",
       "    </tr>\n",
       "    <tr>\n",
       "      <td>2015-09-30</td>\n",
       "      <td>125.169655</td>\n",
       "    </tr>\n",
       "    <tr>\n",
       "      <td>2015-10-30</td>\n",
       "      <td>138.801773</td>\n",
       "    </tr>\n",
       "  </tbody>\n",
       "</table>\n",
       "</div>"
      ],
      "text/plain": [
       "                   MMM\n",
       "Date                  \n",
       "2015-01-30  140.537079\n",
       "2015-02-27  146.943909\n",
       "2015-03-31  143.720108\n",
       "2015-04-30  136.261826\n",
       "2015-05-29  139.482086\n",
       "2015-06-30  135.290970\n",
       "2015-07-31  132.695602\n",
       "2015-08-31  125.496330\n",
       "2015-09-30  125.169655\n",
       "2015-10-30  138.801773"
      ]
     },
     "execution_count": 23,
     "metadata": {},
     "output_type": "execute_result"
    }
   ],
   "source": [
    "MMM=MMM.rename(columns={\"Adj Close\": \"MMM\"})\n",
    "#Resample the data to get prices for the end of the business month.\n",
    "MMM = MMM.resample('BM').last()\n",
    "MMM.head(10)"
   ]
  },
  {
   "cell_type": "markdown",
   "metadata": {},
   "source": [
    "Asnwer to Q4 for stock MMM,\n",
    "Explanation: In month 1 - month 9, there is positive correlation , month 1-3, there is strong positive correlation, \n",
    "month3-9, weak positive correlation\n",
    "Later on, there is no correlation"
   ]
  },
  {
   "cell_type": "code",
   "execution_count": 24,
   "metadata": {},
   "outputs": [
    {
     "data": {
      "text/plain": [
       "<matplotlib.axes._subplots.AxesSubplot at 0x19c56dd99c8>"
      ]
     },
     "execution_count": 24,
     "metadata": {},
     "output_type": "execute_result"
    },
    {
     "data": {
      "image/png": "[encoded data removed]",
      "text/plain": [
       "<Figure size 432x288 with 1 Axes>"
      ]
     },
     "metadata": {
      "needs_background": "light"
     },
     "output_type": "display_data"
    }
   ],
   "source": [
    "autocorrelation_plot(MMM)\n",
    "#Explanation: In month 1 - month 9, there is positive correlation , month 1-3, there is strong positive correlation, \n",
    "#month3-9, weak positive correlation\n",
    "# Later on, there is no correlation"
   ]
  },
  {
   "cell_type": "markdown",
   "metadata": {},
   "source": [
    "Answer to Q5 for Stock MMM,\n",
    "Conclusion: there is no correlation MMM stock return over time"
   ]
  },
  {
   "cell_type": "code",
   "execution_count": 25,
   "metadata": {},
   "outputs": [
    {
     "data": {
      "text/html": [
       "<div>\n",
       "<style scoped>\n",
       "    .dataframe tbody tr th:only-of-type {\n",
       "        vertical-align: middle;\n",
       "    }\n",
       "\n",
       "    .dataframe tbody tr th {\n",
       "        vertical-align: top;\n",
       "    }\n",
       "\n",
       "    .dataframe thead th {\n",
       "        text-align: right;\n",
       "    }\n",
       "</style>\n",
       "<table border=\"1\" class=\"dataframe\">\n",
       "  <thead>\n",
       "    <tr style=\"text-align: right;\">\n",
       "      <th></th>\n",
       "      <th>MMM</th>\n",
       "    </tr>\n",
       "    <tr>\n",
       "      <th>Date</th>\n",
       "      <th></th>\n",
       "    </tr>\n",
       "  </thead>\n",
       "  <tbody>\n",
       "    <tr>\n",
       "      <td>2015-01-30</td>\n",
       "      <td>NaN</td>\n",
       "    </tr>\n",
       "    <tr>\n",
       "      <td>2015-02-27</td>\n",
       "      <td>140.537079</td>\n",
       "    </tr>\n",
       "    <tr>\n",
       "      <td>2015-03-31</td>\n",
       "      <td>146.943909</td>\n",
       "    </tr>\n",
       "    <tr>\n",
       "      <td>2015-04-30</td>\n",
       "      <td>143.720108</td>\n",
       "    </tr>\n",
       "    <tr>\n",
       "      <td>2015-05-29</td>\n",
       "      <td>136.261826</td>\n",
       "    </tr>\n",
       "    <tr>\n",
       "      <td>2015-06-30</td>\n",
       "      <td>139.482086</td>\n",
       "    </tr>\n",
       "    <tr>\n",
       "      <td>2015-07-31</td>\n",
       "      <td>135.290970</td>\n",
       "    </tr>\n",
       "    <tr>\n",
       "      <td>2015-08-31</td>\n",
       "      <td>132.695602</td>\n",
       "    </tr>\n",
       "    <tr>\n",
       "      <td>2015-09-30</td>\n",
       "      <td>125.496330</td>\n",
       "    </tr>\n",
       "    <tr>\n",
       "      <td>2015-10-30</td>\n",
       "      <td>125.169655</td>\n",
       "    </tr>\n",
       "  </tbody>\n",
       "</table>\n",
       "</div>"
      ],
      "text/plain": [
       "                   MMM\n",
       "Date                  \n",
       "2015-01-30         NaN\n",
       "2015-02-27  140.537079\n",
       "2015-03-31  146.943909\n",
       "2015-04-30  143.720108\n",
       "2015-05-29  136.261826\n",
       "2015-06-30  139.482086\n",
       "2015-07-31  135.290970\n",
       "2015-08-31  132.695602\n",
       "2015-09-30  125.496330\n",
       "2015-10-30  125.169655"
      ]
     },
     "execution_count": 25,
     "metadata": {},
     "output_type": "execute_result"
    }
   ],
   "source": [
    "MMMMonth=MMM\n",
    "MMMMonthLater=MMM.shift(1)\n",
    "MMMMonthLater.head(10)"
   ]
  },
  {
   "cell_type": "code",
   "execution_count": 26,
   "metadata": {},
   "outputs": [
    {
     "data": {
      "text/html": [
       "<div>\n",
       "<style scoped>\n",
       "    .dataframe tbody tr th:only-of-type {\n",
       "        vertical-align: middle;\n",
       "    }\n",
       "\n",
       "    .dataframe tbody tr th {\n",
       "        vertical-align: top;\n",
       "    }\n",
       "\n",
       "    .dataframe thead th {\n",
       "        text-align: right;\n",
       "    }\n",
       "</style>\n",
       "<table border=\"1\" class=\"dataframe\">\n",
       "  <thead>\n",
       "    <tr style=\"text-align: right;\">\n",
       "      <th></th>\n",
       "      <th>MMM</th>\n",
       "    </tr>\n",
       "    <tr>\n",
       "      <th>Date</th>\n",
       "      <th></th>\n",
       "    </tr>\n",
       "  </thead>\n",
       "  <tbody>\n",
       "    <tr>\n",
       "      <td>2015-02-27</td>\n",
       "      <td>0.045588</td>\n",
       "    </tr>\n",
       "    <tr>\n",
       "      <td>2015-03-31</td>\n",
       "      <td>-0.021939</td>\n",
       "    </tr>\n",
       "    <tr>\n",
       "      <td>2015-04-30</td>\n",
       "      <td>-0.051894</td>\n",
       "    </tr>\n",
       "    <tr>\n",
       "      <td>2015-05-29</td>\n",
       "      <td>0.023633</td>\n",
       "    </tr>\n",
       "    <tr>\n",
       "      <td>2015-06-30</td>\n",
       "      <td>-0.030048</td>\n",
       "    </tr>\n",
       "  </tbody>\n",
       "</table>\n",
       "</div>"
      ],
      "text/plain": [
       "                 MMM\n",
       "Date                \n",
       "2015-02-27  0.045588\n",
       "2015-03-31 -0.021939\n",
       "2015-04-30 -0.051894\n",
       "2015-05-29  0.023633\n",
       "2015-06-30 -0.030048"
      ]
     },
     "execution_count": 26,
     "metadata": {},
     "output_type": "execute_result"
    }
   ],
   "source": [
    "#Get the return\n",
    "MMMRtn=MMMMonth/MMMMonthLater-1\n",
    "#Drop Month1 NaN record\n",
    "MMMRtn=MMMRtn.dropna()\n",
    "MMMRtn.head()"
   ]
  },
  {
   "cell_type": "code",
   "execution_count": 27,
   "metadata": {},
   "outputs": [
    {
     "data": {
      "image/png": "[encoded data removed]",
      "text/plain": [
       "<Figure size 432x288 with 1 Axes>"
      ]
     },
     "metadata": {
      "needs_background": "light"
     },
     "output_type": "display_data"
    }
   ],
   "source": [
    "autocorrelation_plot(MMMRtn)\n",
    "plt.show()\n",
    "#Conclusion: there is no correlation MMM stock return over time"
   ]
  },
  {
   "cell_type": "markdown",
   "metadata": {},
   "source": [
    "Answer to Q6, Combine 4 stocks return, show scatter matrix for four tocks,check if there is correlated between.\n",
    "##Conclusion:\n",
    "##In general, they all have positive correlation with each other\n",
    "##Stock MMM return  has weak correlation to IBM,  Amazon return \n",
    "##IBM return has weak correlation to IBM,MMM return\n",
    "##Amazon has weak correlation to three stock return: Facebook ,IBM,MMM return\n",
    "##Facebook return has weak correlation to Amazon return"
   ]
  },
  {
   "cell_type": "code",
   "execution_count": 28,
   "metadata": {},
   "outputs": [],
   "source": [
    "#Combine 4 stocks return\n",
    "All_FourStocksRtn=pd.concat([MMMRtn,IBMRtn,FacebookRtn,AmazonRtn],axis=1)\n",
    "All_FourStocksRtn=pd.DataFrame(All_FourStocksRtn)"
   ]
  },
  {
   "cell_type": "code",
   "execution_count": 29,
   "metadata": {},
   "outputs": [
    {
     "data": {
      "image/png": "[encoded data removed]",
      "text/plain": [
       "<Figure size 432x288 with 1 Axes>"
      ]
     },
     "metadata": {
      "needs_background": "light"
     },
     "output_type": "display_data"
    }
   ],
   "source": [
    "All_FourStocksRtn.plot()\n",
    "plt.show()"
   ]
  },
  {
   "cell_type": "code",
   "execution_count": 30,
   "metadata": {},
   "outputs": [
    {
     "data": {
      "text/html": [
       "<div>\n",
       "<style scoped>\n",
       "    .dataframe tbody tr th:only-of-type {\n",
       "        vertical-align: middle;\n",
       "    }\n",
       "\n",
       "    .dataframe tbody tr th {\n",
       "        vertical-align: top;\n",
       "    }\n",
       "\n",
       "    .dataframe thead th {\n",
       "        text-align: right;\n",
       "    }\n",
       "</style>\n",
       "<table border=\"1\" class=\"dataframe\">\n",
       "  <thead>\n",
       "    <tr style=\"text-align: right;\">\n",
       "      <th></th>\n",
       "      <th>MMM</th>\n",
       "      <th>IBM</th>\n",
       "      <th>Facebook</th>\n",
       "      <th>Amazon</th>\n",
       "    </tr>\n",
       "  </thead>\n",
       "  <tbody>\n",
       "    <tr>\n",
       "      <td>MMM</td>\n",
       "      <td>1.000000</td>\n",
       "      <td>0.584701</td>\n",
       "      <td>0.163499</td>\n",
       "      <td>0.392395</td>\n",
       "    </tr>\n",
       "    <tr>\n",
       "      <td>IBM</td>\n",
       "      <td>0.584701</td>\n",
       "      <td>1.000000</td>\n",
       "      <td>0.214567</td>\n",
       "      <td>0.474539</td>\n",
       "    </tr>\n",
       "    <tr>\n",
       "      <td>Facebook</td>\n",
       "      <td>0.163499</td>\n",
       "      <td>0.214567</td>\n",
       "      <td>1.000000</td>\n",
       "      <td>0.531688</td>\n",
       "    </tr>\n",
       "    <tr>\n",
       "      <td>Amazon</td>\n",
       "      <td>0.392395</td>\n",
       "      <td>0.474539</td>\n",
       "      <td>0.531688</td>\n",
       "      <td>1.000000</td>\n",
       "    </tr>\n",
       "  </tbody>\n",
       "</table>\n",
       "</div>"
      ],
      "text/plain": [
       "               MMM       IBM  Facebook    Amazon\n",
       "MMM       1.000000  0.584701  0.163499  0.392395\n",
       "IBM       0.584701  1.000000  0.214567  0.474539\n",
       "Facebook  0.163499  0.214567  1.000000  0.531688\n",
       "Amazon    0.392395  0.474539  0.531688  1.000000"
      ]
     },
     "execution_count": 30,
     "metadata": {},
     "output_type": "execute_result"
    }
   ],
   "source": [
    "All_FourStocksRtn.corr()"
   ]
  },
  {
   "cell_type": "code",
   "execution_count": 31,
   "metadata": {},
   "outputs": [
    {
     "data": {
      "image/png": "[encoded data removed]",
      "text/plain": [
       "<Figure size 720x720 with 16 Axes>"
      ]
     },
     "metadata": {
      "needs_background": "light"
     },
     "output_type": "display_data"
    }
   ],
   "source": [
    "#Show Scatter Matrix for all four stocks return\n",
    "scatter_matrix(All_FourStocksRtn, alpha=0.2, figsize=(10, 10))\n",
    "plt.show() \n",
    "## Conclusion:\n",
    "## In general, they all have positive correlation with each other\n",
    "## Stock MMM return  has weak correlation to IBM,  Amazon return \n",
    "## IBM return has weak correlation to IBM,MMM return\n",
    "## Amazon has weak correlation to three stock return: Facebook ,IBM,MMM return\n",
    "## Facebook return has weak correlation to Amazon return"
   ]
  }
 ],
 "metadata": {
  "kernelspec": {
   "display_name": "Python 3",
   "language": "python",
   "name": "python3"
  },
  "language_info": {
   "codemirror_mode": {
    "name": "ipython",
    "version": 3
   },
   "file_extension": ".py",
   "mimetype": "text/x-python",
   "name": "python",
   "nbconvert_exporter": "python",
   "pygments_lexer": "ipython3",
   "version": "3.7.4"
  },
  "toc": {
   "base_numbering": 1,
   "nav_menu": {},
   "number_sections": false,
   "sideBar": true,
   "skip_h1_title": false,
   "title_cell": "Table of Contents",
   "title_sidebar": "Contents",
   "toc_cell": false,
   "toc_position": {},
   "toc_section_display": true,
   "toc_window_display": false
  }
 },
 "nbformat": 4,
 "nbformat_minor": 2
}
