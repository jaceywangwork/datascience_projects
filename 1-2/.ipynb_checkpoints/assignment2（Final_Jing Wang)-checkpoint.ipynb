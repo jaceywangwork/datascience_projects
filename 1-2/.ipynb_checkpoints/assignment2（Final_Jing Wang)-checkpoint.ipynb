{
 "cells": [
  {
   "cell_type": "markdown",
   "metadata": {},
   "source": [
    "Before you turn this problem in, make sure everything runs as expected. First, **restart the kernel** (in the menu bar, select Kernel$\\rightarrow$Restart) and then **run all cells** (in the menu bar, select Cell$\\rightarrow$Run All).\n",
    "\n",
    "Make sure that in addition to the code, you provide written answers for all questions of the assignment. \n",
    "\n",
    "Below, please fill in your name and collaborators:"
   ]
  },
  {
   "cell_type": "code",
   "execution_count": 1,
   "metadata": {},
   "outputs": [],
   "source": [
    "NAME = \"Jacey Wang\"\n",
    "COLLABORATORS = \"\"\n",
    "\n",
    "#Clean up and prepare an actual dataset for analysis.\n",
    "#Use Matplotlib to identify and visualize key relationships between variables."
   ]
  },
  {
   "cell_type": "markdown",
   "metadata": {},
   "source": [
    "## Assignment 2 - Data Analysis using Pandas\n",
    "**(15 points total)**"
   ]
  },
  {
   "cell_type": "markdown",
   "metadata": {},
   "source": [
    "For this assignment, we will analyze the open dataset with data on the passengers aboard the Titanic.\n",
    "\n",
    "The data file for this assignment can be downloaded from Kaggle website: https://www.kaggle.com/c/titanic/data, file `train.csv`. It is also attached to the assignment page. The definition of all variables can be found on the same Kaggle page, in the Data Dictionary section.\n",
    "\n",
    "Read the data from the file into pandas DataFrame. Analyze, clean and transform the data to answer the following question: \n",
    "\n",
    "**What categories of passengers were most likely to survive the Titanic disaster?**"
   ]
  },
  {
   "cell_type": "markdown",
   "metadata": {},
   "source": [
    "**Question 1.**  _(4 points)_\n",
    "* The answer to the main question - What categories of passengers were most likely to survive the Titanic disaster? _(2 points)_\n",
    "* The detailed explanation of the logic of the analysis _(2 points)_\n",
    "\n",
    "**Question 2.**  _(3 points)_\n",
    "* What other attributes did you use for the analysis? Explain how you used them and why you decided to use them. \n",
    "* Provide a complete list of all attributes used.\n",
    "\n",
    "**Question 3.**  _(3 points)_\n",
    "* Did you engineer any attributes (created new attributes)? If yes, explain the rationale and how the new attributes were used in the analysis?\n",
    "* If you have excluded any attributes from the analysis, provide an explanation why you believe they can be excluded.\n",
    "\n",
    "**Question 4.**  _(5 points)_\n",
    "* How did you treat missing values for those attributes that you included in the analysis (for example, `age` attribute)? Provide a detailed explanation in the comments.\n"
   ]
  },
  {
   "cell_type": "markdown",
   "metadata": {},
   "source": [
    "Answer in Text\n",
    "\n",
    "Q1: \n",
    "Answer: Passenger who are not board alone, female, sit in 1st PClass, pay high ticket Fare,embarked at Cherbourg city is most likely survive in the Titanic disaster\n",
    "The latter analysis show the logic how I get this conclusion, I get the survived rate based on each attribute and some new attribute, and review the correlation with survive, get this conclusion\n",
    "\n",
    "Q2:\n",
    "Answer: I use Attributes (Pclass, Sex, Embarked, Parch, SibSp,Age,Fare) for analyzing, I found these attributes have relationship with survived. I dropped some other attributes(Ticket,PassengerId,Name,Cabin) based on if attribute missing a lot of value, sparse,contribute any meaning to the survived. please see latter analysis in detail.\n",
    "\n",
    "Q3:\n",
    "Answer: I created couple of new attributes (Gender,EmbarkedNew,WithFamily,AgeNew,FareNew), \n",
    "In order to show Sex relationship with Survived, I need to map Sex to Int format. so it will tell me correlation by using corr() function\n",
    "EmbarkedNew: same as Sex, In order to get correlation information, I need to map Embarked to Int format.\n",
    "WithFamily: I use SibSP and Parch to combine them into one Attribute and try to analysis based on that, detail based on latter analysis\n",
    "AgeNew: I split Age into group, to find the trend which age group have higher survived rate\n",
    "FareNew: I split Fare into group, to find the trend which Fare group passenger paid have higher survived rate\n",
    "\n",
    "\n",
    "\n",
    "I dropped some other attributes(Ticket,PassengerId,Name,Cabin) based on if attribute missing a lot of value, sparse,contribute any meaning to the survived. please see latter analysis in detail.\n",
    "687 data get missing in Cabin, too many missing value Will decide to drop this attribute\n",
    "Values in PassengerID is distinct 891 values, it is identity of passenger on Titantic\n",
    "Values in Ticket are sparse, there 681 distinct records and no meaning, it is just Ticket number\n",
    "Values in Name is distinct 891 values, it is Name identity of passenger \n",
    "\n",
    "\n",
    "Q4:\n",
    "Answer:\n",
    "687 data get missing in Cabin, too many missing value(over 2/3 data missing).I decide to drop this attribute, detail see below analysis\n",
    "Age attribute get missing 177 data, I use the mean to fill the missing value for age, due to min of age is 0, max is 80, use min or max is not a good approach, use mean will be the best approach, detail see below analysis\n",
    "Embark attribute missing 2 data, I will fill up missing value by majority of passenger from which embarked city 'S'\n",
    "\n",
    "\n",
    "Detail analysis shows below.\n"
   ]
  },
  {
   "cell_type": "code",
   "execution_count": 2,
   "metadata": {},
   "outputs": [
    {
     "name": "stdout",
     "output_type": "stream",
     "text": [
      "   PassengerId  Survived  Pclass  \\\n",
      "0            1         0       3   \n",
      "1            2         1       1   \n",
      "2            3         1       3   \n",
      "3            4         1       1   \n",
      "4            5         0       3   \n",
      "5            6         0       3   \n",
      "6            7         0       1   \n",
      "7            8         0       3   \n",
      "8            9         1       3   \n",
      "9           10         1       2   \n",
      "\n",
      "                                                Name     Sex   Age  SibSp  \\\n",
      "0                            Braund, Mr. Owen Harris    male  22.0      1   \n",
      "1  Cumings, Mrs. John Bradley (Florence Briggs Th...  female  38.0      1   \n",
      "2                             Heikkinen, Miss. Laina  female  26.0      0   \n",
      "3       Futrelle, Mrs. Jacques Heath (Lily May Peel)  female  35.0      1   \n",
      "4                           Allen, Mr. William Henry    male  35.0      0   \n",
      "5                                   Moran, Mr. James    male   NaN      0   \n",
      "6                            McCarthy, Mr. Timothy J    male  54.0      0   \n",
      "7                     Palsson, Master. Gosta Leonard    male   2.0      3   \n",
      "8  Johnson, Mrs. Oscar W (Elisabeth Vilhelmina Berg)  female  27.0      0   \n",
      "9                Nasser, Mrs. Nicholas (Adele Achem)  female  14.0      1   \n",
      "\n",
      "   Parch            Ticket     Fare Cabin Embarked  \n",
      "0      0         A/5 21171   7.2500   NaN        S  \n",
      "1      0          PC 17599  71.2833   C85        C  \n",
      "2      0  STON/O2. 3101282   7.9250   NaN        S  \n",
      "3      0            113803  53.1000  C123        S  \n",
      "4      0            373450   8.0500   NaN        S  \n",
      "5      0            330877   8.4583   NaN        Q  \n",
      "6      0             17463  51.8625   E46        S  \n",
      "7      1            349909  21.0750   NaN        S  \n",
      "8      2            347742  11.1333   NaN        S  \n",
      "9      0            237736  30.0708   NaN        C  \n",
      "(891, 12)\n",
      "<class 'pandas.core.frame.DataFrame'>\n",
      "RangeIndex: 891 entries, 0 to 890\n",
      "Data columns (total 12 columns):\n",
      "PassengerId    891 non-null int64\n",
      "Survived       891 non-null int64\n",
      "Pclass         891 non-null int64\n",
      "Name           891 non-null object\n",
      "Sex            891 non-null object\n",
      "Age            714 non-null float64\n",
      "SibSp          891 non-null int64\n",
      "Parch          891 non-null int64\n",
      "Ticket         891 non-null object\n",
      "Fare           891 non-null float64\n",
      "Cabin          204 non-null object\n",
      "Embarked       889 non-null object\n",
      "dtypes: float64(2), int64(5), object(5)\n",
      "memory usage: 83.7+ KB\n",
      "None\n",
      "       PassengerId    Survived      Pclass         Age       SibSp  \\\n",
      "count   891.000000  891.000000  891.000000  714.000000  891.000000   \n",
      "mean    446.000000    0.383838    2.308642   29.699118    0.523008   \n",
      "std     257.353842    0.486592    0.836071   14.526497    1.102743   \n",
      "min       1.000000    0.000000    1.000000    0.420000    0.000000   \n",
      "25%     223.500000    0.000000    2.000000   20.125000    0.000000   \n",
      "50%     446.000000    0.000000    3.000000   28.000000    0.000000   \n",
      "75%     668.500000    1.000000    3.000000   38.000000    1.000000   \n",
      "max     891.000000    1.000000    3.000000   80.000000    8.000000   \n",
      "\n",
      "            Parch        Fare  \n",
      "count  891.000000  891.000000  \n",
      "mean     0.381594   32.204208  \n",
      "std      0.806057   49.693429  \n",
      "min      0.000000    0.000000  \n",
      "25%      0.000000    7.910400  \n",
      "50%      0.000000   14.454200  \n",
      "75%      0.000000   31.000000  \n",
      "max      6.000000  512.329200  \n",
      "PassengerId      0\n",
      "Survived         0\n",
      "Pclass           0\n",
      "Name             0\n",
      "Sex              0\n",
      "Age            177\n",
      "SibSp            0\n",
      "Parch            0\n",
      "Ticket           0\n",
      "Fare             0\n",
      "Cabin          687\n",
      "Embarked         2\n",
      "dtype: int64\n"
     ]
    }
   ],
   "source": [
    "# Pandas\n",
    "import pandas as pd\n",
    "# Num Python\n",
    "import numpy as np \n",
    "# data visualization\n",
    "import seaborn as sns\n",
    "%matplotlib inline\n",
    "from matplotlib import pyplot as plt\n",
    "from matplotlib import style\n",
    "\n",
    "# Reading a csv\n",
    "#Set PassengerId to Index\n",
    "traindata = pd.read_csv('train.csv', sep=',') #,index_col='PassengerId'\n",
    "traindata=pd.DataFrame(traindata)\n",
    "# quick look at 10 records of dataset, get to know data value\n",
    "tendata=traindata.head(10)\n",
    "print(tendata)\n",
    "# By taking a quick look at data, PassengerID, Ticket looks meaningless to survival rate\n",
    "\n",
    "\n",
    "# Get to know general info of dataset \n",
    "#1.get to know general info of dataset \n",
    "generalinfo=traindata.shape\n",
    "print  (generalinfo)\n",
    "# Output 891 data, 11 columns\n",
    "\n",
    "#2.get to know general info of attributes\n",
    "information= traindata.info()\n",
    "print (information)\n",
    "#dtypes: float64(2), int64(5), object(5)\n",
    "#integers(PassengerId, Survived, Pclass, SibSp,Parch), float(Age,Fare),object(Name, Sex, Ticket, Cabin, Embarked)\n",
    "#Analysis: will analyze survival rate for Pclass,Parch,SibSp,Embarked,Sex \n",
    "# Age, Fare are float type, we might need to put into group value\n",
    "\n",
    "\n",
    "describeall=traindata.describe()\n",
    "print (describeall)\n",
    "#by looking at the mean of survived is 0.383838, 38% passenger have chance to survive from this titanic disaster\n",
    "#Look at the Age, the range is between 0 age to 80 age, we might need to split into group\n",
    "#Look at the Fare, the range is between fare 0  to 512 , we might need to split into group\n",
    "\n",
    "\n",
    "\n",
    "#Check missing value for each attribute\n",
    "Missvalue=pd.isnull(traindata).sum()\n",
    "print (Missvalue)\n",
    "#687 data get missing in Cabin, too many missing value Will decide to drop this attribute\n",
    "#Age attribute missing 177 data, Embark attribute missing 2 data, will fill up missing value\n",
    "#there are some missing value in Age(missing value labelled as NaN), a lot of missing value in Cabin(labelled as NaN)\n"
   ]
  },
  {
   "cell_type": "code",
   "execution_count": 3,
   "metadata": {},
   "outputs": [
    {
     "data": {
      "text/html": [
       "<div>\n",
       "<style scoped>\n",
       "    .dataframe tbody tr th:only-of-type {\n",
       "        vertical-align: middle;\n",
       "    }\n",
       "\n",
       "    .dataframe tbody tr th {\n",
       "        vertical-align: top;\n",
       "    }\n",
       "\n",
       "    .dataframe thead th {\n",
       "        text-align: right;\n",
       "    }\n",
       "</style>\n",
       "<table border=\"1\" class=\"dataframe\">\n",
       "  <thead>\n",
       "    <tr style=\"text-align: right;\">\n",
       "      <th></th>\n",
       "      <th>PassengerId</th>\n",
       "      <th>Survived</th>\n",
       "      <th>Pclass</th>\n",
       "      <th>Age</th>\n",
       "      <th>SibSp</th>\n",
       "      <th>Parch</th>\n",
       "      <th>Fare</th>\n",
       "    </tr>\n",
       "  </thead>\n",
       "  <tbody>\n",
       "    <tr>\n",
       "      <td>PassengerId</td>\n",
       "      <td>1.000000</td>\n",
       "      <td>-0.005007</td>\n",
       "      <td>-0.035144</td>\n",
       "      <td>0.036847</td>\n",
       "      <td>-0.057527</td>\n",
       "      <td>-0.001652</td>\n",
       "      <td>0.012658</td>\n",
       "    </tr>\n",
       "    <tr>\n",
       "      <td>Survived</td>\n",
       "      <td>-0.005007</td>\n",
       "      <td>1.000000</td>\n",
       "      <td>-0.338481</td>\n",
       "      <td>-0.077221</td>\n",
       "      <td>-0.035322</td>\n",
       "      <td>0.081629</td>\n",
       "      <td>0.257307</td>\n",
       "    </tr>\n",
       "    <tr>\n",
       "      <td>Pclass</td>\n",
       "      <td>-0.035144</td>\n",
       "      <td>-0.338481</td>\n",
       "      <td>1.000000</td>\n",
       "      <td>-0.369226</td>\n",
       "      <td>0.083081</td>\n",
       "      <td>0.018443</td>\n",
       "      <td>-0.549500</td>\n",
       "    </tr>\n",
       "    <tr>\n",
       "      <td>Age</td>\n",
       "      <td>0.036847</td>\n",
       "      <td>-0.077221</td>\n",
       "      <td>-0.369226</td>\n",
       "      <td>1.000000</td>\n",
       "      <td>-0.308247</td>\n",
       "      <td>-0.189119</td>\n",
       "      <td>0.096067</td>\n",
       "    </tr>\n",
       "    <tr>\n",
       "      <td>SibSp</td>\n",
       "      <td>-0.057527</td>\n",
       "      <td>-0.035322</td>\n",
       "      <td>0.083081</td>\n",
       "      <td>-0.308247</td>\n",
       "      <td>1.000000</td>\n",
       "      <td>0.414838</td>\n",
       "      <td>0.159651</td>\n",
       "    </tr>\n",
       "    <tr>\n",
       "      <td>Parch</td>\n",
       "      <td>-0.001652</td>\n",
       "      <td>0.081629</td>\n",
       "      <td>0.018443</td>\n",
       "      <td>-0.189119</td>\n",
       "      <td>0.414838</td>\n",
       "      <td>1.000000</td>\n",
       "      <td>0.216225</td>\n",
       "    </tr>\n",
       "    <tr>\n",
       "      <td>Fare</td>\n",
       "      <td>0.012658</td>\n",
       "      <td>0.257307</td>\n",
       "      <td>-0.549500</td>\n",
       "      <td>0.096067</td>\n",
       "      <td>0.159651</td>\n",
       "      <td>0.216225</td>\n",
       "      <td>1.000000</td>\n",
       "    </tr>\n",
       "  </tbody>\n",
       "</table>\n",
       "</div>"
      ],
      "text/plain": [
       "             PassengerId  Survived    Pclass       Age     SibSp     Parch  \\\n",
       "PassengerId     1.000000 -0.005007 -0.035144  0.036847 -0.057527 -0.001652   \n",
       "Survived       -0.005007  1.000000 -0.338481 -0.077221 -0.035322  0.081629   \n",
       "Pclass         -0.035144 -0.338481  1.000000 -0.369226  0.083081  0.018443   \n",
       "Age             0.036847 -0.077221 -0.369226  1.000000 -0.308247 -0.189119   \n",
       "SibSp          -0.057527 -0.035322  0.083081 -0.308247  1.000000  0.414838   \n",
       "Parch          -0.001652  0.081629  0.018443 -0.189119  0.414838  1.000000   \n",
       "Fare            0.012658  0.257307 -0.549500  0.096067  0.159651  0.216225   \n",
       "\n",
       "                 Fare  \n",
       "PassengerId  0.012658  \n",
       "Survived     0.257307  \n",
       "Pclass      -0.549500  \n",
       "Age          0.096067  \n",
       "SibSp        0.159651  \n",
       "Parch        0.216225  \n",
       "Fare         1.000000  "
      ]
     },
     "execution_count": 3,
     "metadata": {},
     "output_type": "execute_result"
    }
   ],
   "source": [
    "traindata.corr()\n",
    "#Survived has strong correlation with Pclass, Fare\n",
    "# Then have correlation with Parch, Age, SibSp attributes as well, but a little bit weak\n",
    "# Ticket Fare has high correlation with survived\n",
    "# Pclass has high correlation with Fare(Negative correlation -0.549), Class1 pay higher Fare, Higher Fare means lower Class#\n",
    "#Parch and SibSp correlated to each other, may create new attribute\n",
    "#In general, PassengerId has low correlation to each attribute, may drop PassengerId\n",
    "#Sex,Name,Embarked these non-int attribute did not show below due to the data type, need to create new attribute to int type and analysis later"
   ]
  },
  {
   "cell_type": "code",
   "execution_count": 4,
   "metadata": {},
   "outputs": [],
   "source": [
    "# Which columns are going to be dropped\n",
    "# as just mentioned, PassengerId may be dropped\n",
    "#approach: Consider which columns are going to be dropped due to  a lot of missing value and low correlation to survived or data are sparse"
   ]
  },
  {
   "cell_type": "code",
   "execution_count": 5,
   "metadata": {},
   "outputs": [
    {
     "data": {
      "text/plain": [
       "count        891\n",
       "unique       681\n",
       "top       347082\n",
       "freq           7\n",
       "Name: Ticket, dtype: object"
      ]
     },
     "execution_count": 5,
     "metadata": {},
     "output_type": "execute_result"
    }
   ],
   "source": [
    "traindata['Ticket'].describe()\n",
    "#Values in Ticket are sparse, there 681 distinct records and no meaning, it is just Ticket number\n",
    "#Consider to drop the column"
   ]
  },
  {
   "cell_type": "code",
   "execution_count": 6,
   "metadata": {},
   "outputs": [
    {
     "data": {
      "text/plain": [
       "count    891.000000\n",
       "mean     446.000000\n",
       "std      257.353842\n",
       "min        1.000000\n",
       "25%      223.500000\n",
       "50%      446.000000\n",
       "75%      668.500000\n",
       "max      891.000000\n",
       "Name: PassengerId, dtype: float64"
      ]
     },
     "execution_count": 6,
     "metadata": {},
     "output_type": "execute_result"
    }
   ],
   "source": [
    "traindata['PassengerId'].describe()\n",
    "#Values in PassengerID is distinct 891 values, it is identity of passenger on Titantic\n",
    "#PassengerId consider to be dropped"
   ]
  },
  {
   "cell_type": "code",
   "execution_count": 7,
   "metadata": {},
   "outputs": [
    {
     "data": {
      "text/plain": [
       "count                                        891\n",
       "unique                                       891\n",
       "top       Peter, Mrs. Catherine (Catherine Rizk)\n",
       "freq                                           1\n",
       "Name: Name, dtype: object"
      ]
     },
     "execution_count": 7,
     "metadata": {},
     "output_type": "execute_result"
    }
   ],
   "source": [
    "traindata['Name'].describe()\n",
    "#Values in Name is distinct 891 values, it is Name identity of passenger \n",
    "#Name consider to be dropped"
   ]
  },
  {
   "cell_type": "code",
   "execution_count": 8,
   "metadata": {},
   "outputs": [],
   "source": [
    "#Drop Attributes\n",
    "#As above analysis,Attributes PassengerId, Ticket,Cabin,Name are dropped, do not contribute any meaningful analysis\n",
    "traindata = traindata.drop(['PassengerId','Ticket','Cabin','Name'], axis=1)\n",
    "#687 data get missing in Cabin, too many missing value Will decide to drop this attribute\n",
    "#Values in PassengerID is distinct 891 values, it is identity of passenger on Titantic\n",
    "#Values in Ticket are sparse, there 681 distinct records and no meaning, it is just Ticket number\n",
    "#Values in Name is distinct 891 values, it is Name identity of passenger "
   ]
  },
  {
   "cell_type": "code",
   "execution_count": 9,
   "metadata": {},
   "outputs": [],
   "source": [
    "#Start Analyzing other attributes "
   ]
  },
  {
   "cell_type": "code",
   "execution_count": 10,
   "metadata": {},
   "outputs": [
    {
     "data": {
      "text/html": [
       "<div>\n",
       "<style scoped>\n",
       "    .dataframe tbody tr th:only-of-type {\n",
       "        vertical-align: middle;\n",
       "    }\n",
       "\n",
       "    .dataframe tbody tr th {\n",
       "        vertical-align: top;\n",
       "    }\n",
       "\n",
       "    .dataframe thead th {\n",
       "        text-align: right;\n",
       "    }\n",
       "</style>\n",
       "<table border=\"1\" class=\"dataframe\">\n",
       "  <thead>\n",
       "    <tr style=\"text-align: right;\">\n",
       "      <th></th>\n",
       "      <th>Survived</th>\n",
       "    </tr>\n",
       "    <tr>\n",
       "      <th>Pclass</th>\n",
       "      <th></th>\n",
       "    </tr>\n",
       "  </thead>\n",
       "  <tbody>\n",
       "    <tr>\n",
       "      <td>1</td>\n",
       "      <td>0.629630</td>\n",
       "    </tr>\n",
       "    <tr>\n",
       "      <td>2</td>\n",
       "      <td>0.472826</td>\n",
       "    </tr>\n",
       "    <tr>\n",
       "      <td>3</td>\n",
       "      <td>0.242363</td>\n",
       "    </tr>\n",
       "  </tbody>\n",
       "</table>\n",
       "</div>"
      ],
      "text/plain": [
       "        Survived\n",
       "Pclass          \n",
       "1       0.629630\n",
       "2       0.472826\n",
       "3       0.242363"
      ]
     },
     "execution_count": 10,
     "metadata": {},
     "output_type": "execute_result"
    }
   ],
   "source": [
    "#Pclass\n",
    "### Alternative 1 - by statistics\n",
    "traindata[['Pclass','Survived']].groupby(['Pclass']).mean()\n",
    "#Passengers in 1st Class is most likely to survive, Then 2nd Class "
   ]
  },
  {
   "cell_type": "code",
   "execution_count": 11,
   "metadata": {},
   "outputs": [
    {
     "data": {
      "text/plain": [
       "<matplotlib.axes._subplots.AxesSubplot at 0x1dd93b57788>"
      ]
     },
     "execution_count": 11,
     "metadata": {},
     "output_type": "execute_result"
    },
    {
     "data": {
      "image/png": "[encoded data removed]",
      "text/plain": [
       "<Figure size 432x288 with 1 Axes>"
      ]
     },
     "metadata": {
      "needs_background": "light"
     },
     "output_type": "display_data"
    }
   ],
   "source": [
    "### Alternative 2 - by graph\n",
    "sns.barplot(x='Pclass', y='Survived', data=traindata)\n",
    "#Passengers in 1st Class is most likely to survive, Then 2nd Class "
   ]
  },
  {
   "cell_type": "code",
   "execution_count": 12,
   "metadata": {},
   "outputs": [
    {
     "data": {
      "text/html": [
       "<div>\n",
       "<style scoped>\n",
       "    .dataframe tbody tr th:only-of-type {\n",
       "        vertical-align: middle;\n",
       "    }\n",
       "\n",
       "    .dataframe tbody tr th {\n",
       "        vertical-align: top;\n",
       "    }\n",
       "\n",
       "    .dataframe thead th {\n",
       "        text-align: right;\n",
       "    }\n",
       "</style>\n",
       "<table border=\"1\" class=\"dataframe\">\n",
       "  <thead>\n",
       "    <tr style=\"text-align: right;\">\n",
       "      <th></th>\n",
       "      <th>Survived</th>\n",
       "    </tr>\n",
       "    <tr>\n",
       "      <th>Sex</th>\n",
       "      <th></th>\n",
       "    </tr>\n",
       "  </thead>\n",
       "  <tbody>\n",
       "    <tr>\n",
       "      <td>female</td>\n",
       "      <td>0.742038</td>\n",
       "    </tr>\n",
       "    <tr>\n",
       "      <td>male</td>\n",
       "      <td>0.188908</td>\n",
       "    </tr>\n",
       "  </tbody>\n",
       "</table>\n",
       "</div>"
      ],
      "text/plain": [
       "        Survived\n",
       "Sex             \n",
       "female  0.742038\n",
       "male    0.188908"
      ]
     },
     "execution_count": 12,
     "metadata": {},
     "output_type": "execute_result"
    }
   ],
   "source": [
    "#Sex\n",
    "### Alternative 1 - by statistics\n",
    "traindata[['Sex','Survived']].groupby(['Sex']).mean()\n",
    "#Female is most likely to be survived "
   ]
  },
  {
   "cell_type": "code",
   "execution_count": 13,
   "metadata": {},
   "outputs": [
    {
     "data": {
      "text/plain": [
       "<matplotlib.axes._subplots.AxesSubplot at 0x1dd95364c08>"
      ]
     },
     "execution_count": 13,
     "metadata": {},
     "output_type": "execute_result"
    },
    {
     "data": {
      "image/png": "[encoded data removed]",
      "text/plain": [
       "<Figure size 432x288 with 1 Axes>"
      ]
     },
     "metadata": {
      "needs_background": "light"
     },
     "output_type": "display_data"
    }
   ],
   "source": [
    "### Alternative 2 - by graph\n",
    "sns.barplot(x='Sex', y='Survived', data=traindata)\n",
    "#same conclusion as Alternative 1 method, Female is most likely to be survived \n",
    "  "
   ]
  },
  {
   "cell_type": "code",
   "execution_count": 14,
   "metadata": {},
   "outputs": [],
   "source": [
    "da=[traindata]\n",
    "for d in da:\n",
    "    d['Gender']=d['Sex'].map({'female':1,'male':0}).astype(int)"
   ]
  },
  {
   "cell_type": "code",
   "execution_count": 15,
   "metadata": {},
   "outputs": [
    {
     "data": {
      "text/plain": [
       "count     889\n",
       "unique      3\n",
       "top         S\n",
       "freq      644\n",
       "Name: Embarked, dtype: object"
      ]
     },
     "execution_count": 15,
     "metadata": {},
     "output_type": "execute_result"
    }
   ],
   "source": [
    "traindata['Embarked'].describe()\n",
    "##2 missing value"
   ]
  },
  {
   "cell_type": "code",
   "execution_count": 16,
   "metadata": {},
   "outputs": [
    {
     "data": {
      "text/plain": [
       "S    644\n",
       "C    168\n",
       "Q     77\n",
       "Name: Embarked, dtype: int64"
      ]
     },
     "execution_count": 16,
     "metadata": {},
     "output_type": "execute_result"
    }
   ],
   "source": [
    "traindata['Embarked'].value_counts()\n",
    "#most of passenger embarked at S "
   ]
  },
  {
   "cell_type": "code",
   "execution_count": 17,
   "metadata": {},
   "outputs": [],
   "source": [
    "#Fill missing value in Embarked attribute with  Embarked 'S' which is the majority of passenger embarked from\n",
    "da=[traindata]\n",
    "for d in traindata:\n",
    "    traindata['Embarked']=traindata['Embarked'].fillna('S')\n"
   ]
  },
  {
   "cell_type": "code",
   "execution_count": 18,
   "metadata": {},
   "outputs": [
    {
     "data": {
      "text/plain": [
       "S    646\n",
       "C    168\n",
       "Q     77\n",
       "Name: Embarked, dtype: int64"
      ]
     },
     "execution_count": 18,
     "metadata": {},
     "output_type": "execute_result"
    }
   ],
   "source": [
    "traindata['Embarked'].value_counts()\n",
    "#Check if we gets two more records at S Embarked"
   ]
  },
  {
   "cell_type": "code",
   "execution_count": 19,
   "metadata": {},
   "outputs": [
    {
     "data": {
      "text/html": [
       "<div>\n",
       "<style scoped>\n",
       "    .dataframe tbody tr th:only-of-type {\n",
       "        vertical-align: middle;\n",
       "    }\n",
       "\n",
       "    .dataframe tbody tr th {\n",
       "        vertical-align: top;\n",
       "    }\n",
       "\n",
       "    .dataframe thead th {\n",
       "        text-align: right;\n",
       "    }\n",
       "</style>\n",
       "<table border=\"1\" class=\"dataframe\">\n",
       "  <thead>\n",
       "    <tr style=\"text-align: right;\">\n",
       "      <th></th>\n",
       "      <th>Survived</th>\n",
       "    </tr>\n",
       "    <tr>\n",
       "      <th>Embarked</th>\n",
       "      <th></th>\n",
       "    </tr>\n",
       "  </thead>\n",
       "  <tbody>\n",
       "    <tr>\n",
       "      <td>C</td>\n",
       "      <td>0.553571</td>\n",
       "    </tr>\n",
       "    <tr>\n",
       "      <td>Q</td>\n",
       "      <td>0.389610</td>\n",
       "    </tr>\n",
       "    <tr>\n",
       "      <td>S</td>\n",
       "      <td>0.339009</td>\n",
       "    </tr>\n",
       "  </tbody>\n",
       "</table>\n",
       "</div>"
      ],
      "text/plain": [
       "          Survived\n",
       "Embarked          \n",
       "C         0.553571\n",
       "Q         0.389610\n",
       "S         0.339009"
      ]
     },
     "execution_count": 19,
     "metadata": {},
     "output_type": "execute_result"
    }
   ],
   "source": [
    "### Alternative 1 - by statistics\n",
    "traindata[['Embarked','Survived']].groupby(['Embarked']).mean()\n",
    "# Passenger embarked at Cherbourg have highest chance to survive"
   ]
  },
  {
   "cell_type": "code",
   "execution_count": 20,
   "metadata": {},
   "outputs": [
    {
     "data": {
      "text/plain": [
       "<matplotlib.axes._subplots.AxesSubplot at 0x1dd953e7408>"
      ]
     },
     "execution_count": 20,
     "metadata": {},
     "output_type": "execute_result"
    },
    {
     "data": {
      "image/png": "[encoded data removed]",
      "text/plain": [
       "<Figure size 432x288 with 1 Axes>"
      ]
     },
     "metadata": {
      "needs_background": "light"
     },
     "output_type": "display_data"
    }
   ],
   "source": [
    "### Alternative 2 - by graph\n",
    "sns.barplot(x='Embarked', y='Survived', data=traindata)\n",
    "#same conclusion as Alternative 1 method, Passenger embarked at Cherbourg have highest chance to survive\n"
   ]
  },
  {
   "cell_type": "code",
   "execution_count": 21,
   "metadata": {},
   "outputs": [],
   "source": [
    "##Need to map Embarked into Int data type for later analysis\n",
    "def EmbarkedN (Embarked):\n",
    "        if Embarked == 'C':\n",
    "            return 1\n",
    "        elif Embarked == 'Q':\n",
    "            return 2      \n",
    "        else :\n",
    "            return 3\n",
    "data=[traindata]\n",
    "for d in data:\n",
    "    d['EmbarkedNew']=traindata['Embarked'].map(EmbarkedN)"
   ]
  },
  {
   "cell_type": "code",
   "execution_count": 22,
   "metadata": {},
   "outputs": [
    {
     "data": {
      "text/plain": [
       "<matplotlib.axes._subplots.AxesSubplot at 0x1dd9545f148>"
      ]
     },
     "execution_count": 22,
     "metadata": {},
     "output_type": "execute_result"
    },
    {
     "data": {
      "image/png": "[encoded data removed]",
      "text/plain": [
       "<Figure size 432x288 with 1 Axes>"
      ]
     },
     "metadata": {
      "needs_background": "light"
     },
     "output_type": "display_data"
    }
   ],
   "source": [
    "### by graph\n",
    "sns.barplot(x='SibSp', y='Survived', data=traindata)\n",
    "#Have 1 sibling/spouse aboard Atlantic is most likely to be survived\n",
    "#Have sibling/spouse on Titanic is more likely survive than without any sibling/spouse in Titanic\n",
    "#More siblings/spouse you have with you on Titanic, less than the one who has less sibling/spouse to survive "
   ]
  },
  {
   "cell_type": "code",
   "execution_count": 23,
   "metadata": {},
   "outputs": [
    {
     "data": {
      "text/plain": [
       "<matplotlib.axes._subplots.AxesSubplot at 0x1dd954d1fc8>"
      ]
     },
     "execution_count": 23,
     "metadata": {},
     "output_type": "execute_result"
    },
    {
     "data": {
      "image/png": "[encoded data removed]",
      "text/plain": [
       "<Figure size 432x288 with 1 Axes>"
      ]
     },
     "metadata": {
      "needs_background": "light"
     },
     "output_type": "display_data"
    }
   ],
   "source": [
    "traindata['SibSp'].hist(bins=9)\n",
    "# Based on the chart below, will split the SibSp into Group"
   ]
  },
  {
   "cell_type": "code",
   "execution_count": 24,
   "metadata": {},
   "outputs": [
    {
     "data": {
      "text/html": [
       "<div>\n",
       "<style scoped>\n",
       "    .dataframe tbody tr th:only-of-type {\n",
       "        vertical-align: middle;\n",
       "    }\n",
       "\n",
       "    .dataframe tbody tr th {\n",
       "        vertical-align: top;\n",
       "    }\n",
       "\n",
       "    .dataframe thead th {\n",
       "        text-align: right;\n",
       "    }\n",
       "</style>\n",
       "<table border=\"1\" class=\"dataframe\">\n",
       "  <thead>\n",
       "    <tr style=\"text-align: right;\">\n",
       "      <th></th>\n",
       "      <th>SibSpGroup</th>\n",
       "      <th>Survived</th>\n",
       "    </tr>\n",
       "  </thead>\n",
       "  <tbody>\n",
       "    <tr>\n",
       "      <td>0</td>\n",
       "      <td>(-0.008, 1.6]</td>\n",
       "      <td>0.394125</td>\n",
       "    </tr>\n",
       "    <tr>\n",
       "      <td>1</td>\n",
       "      <td>(1.6, 3.2]</td>\n",
       "      <td>0.386364</td>\n",
       "    </tr>\n",
       "    <tr>\n",
       "      <td>2</td>\n",
       "      <td>(3.2, 4.8]</td>\n",
       "      <td>0.166667</td>\n",
       "    </tr>\n",
       "    <tr>\n",
       "      <td>3</td>\n",
       "      <td>(4.8, 6.4]</td>\n",
       "      <td>0.000000</td>\n",
       "    </tr>\n",
       "    <tr>\n",
       "      <td>4</td>\n",
       "      <td>(6.4, 8.0]</td>\n",
       "      <td>0.000000</td>\n",
       "    </tr>\n",
       "  </tbody>\n",
       "</table>\n",
       "</div>"
      ],
      "text/plain": [
       "      SibSpGroup  Survived\n",
       "0  (-0.008, 1.6]  0.394125\n",
       "1     (1.6, 3.2]  0.386364\n",
       "2     (3.2, 4.8]  0.166667\n",
       "3     (4.8, 6.4]  0.000000\n",
       "4     (6.4, 8.0]  0.000000"
      ]
     },
     "execution_count": 24,
     "metadata": {},
     "output_type": "execute_result"
    }
   ],
   "source": [
    "traindata['SibSpGroup'] = pd.cut(traindata['SibSp'], 5)\n",
    "traindata[['SibSpGroup', 'Survived']].groupby(['SibSpGroup'], as_index=False).mean()\n",
    "\n",
    "#Split SibSp into five groups as output\n",
    "# no sibling or spouse, 1-3 sibling and Spouse,3-5 sibling/spouse, greater than 5 sibling/spouse"
   ]
  },
  {
   "cell_type": "code",
   "execution_count": 25,
   "metadata": {},
   "outputs": [
    {
     "data": {
      "text/plain": [
       "<matplotlib.axes._subplots.AxesSubplot at 0x1dd955643c8>"
      ]
     },
     "execution_count": 25,
     "metadata": {},
     "output_type": "execute_result"
    },
    {
     "data": {
      "image/png": "[encoded data removed]",
      "text/plain": [
       "<Figure size 432x288 with 1 Axes>"
      ]
     },
     "metadata": {
      "needs_background": "light"
     },
     "output_type": "display_data"
    }
   ],
   "source": [
    "### by graph\n",
    "sns.barplot(x='Parch', y='Survived', data=traindata)\n",
    "#Passenger with Parent/child board on Titanic is more likely to survive than without any parent/child "
   ]
  },
  {
   "cell_type": "code",
   "execution_count": 26,
   "metadata": {},
   "outputs": [
    {
     "data": {
      "text/plain": [
       "<matplotlib.axes._subplots.AxesSubplot at 0x1dd955f7788>"
      ]
     },
     "execution_count": 26,
     "metadata": {},
     "output_type": "execute_result"
    },
    {
     "data": {
      "image/png": "[encoded data removed]",
      "text/plain": [
       "<Figure size 432x288 with 1 Axes>"
      ]
     },
     "metadata": {
      "needs_background": "light"
     },
     "output_type": "display_data"
    }
   ],
   "source": [
    "#Parch, the definition is super similar to SibSp, might combine them together later\n",
    "#Let us take a look\n",
    "traindata['Parch'].hist(bins=4)\n",
    "# Based on the chart below, will split the Parch into Group, same way as SibSp"
   ]
  },
  {
   "cell_type": "code",
   "execution_count": 27,
   "metadata": {},
   "outputs": [
    {
     "data": {
      "text/html": [
       "<div>\n",
       "<style scoped>\n",
       "    .dataframe tbody tr th:only-of-type {\n",
       "        vertical-align: middle;\n",
       "    }\n",
       "\n",
       "    .dataframe tbody tr th {\n",
       "        vertical-align: top;\n",
       "    }\n",
       "\n",
       "    .dataframe thead th {\n",
       "        text-align: right;\n",
       "    }\n",
       "</style>\n",
       "<table border=\"1\" class=\"dataframe\">\n",
       "  <thead>\n",
       "    <tr style=\"text-align: right;\">\n",
       "      <th></th>\n",
       "      <th>ParentChild</th>\n",
       "      <th>Survived</th>\n",
       "    </tr>\n",
       "  </thead>\n",
       "  <tbody>\n",
       "    <tr>\n",
       "      <td>0</td>\n",
       "      <td>(-0.006, 1.2]</td>\n",
       "      <td>0.374372</td>\n",
       "    </tr>\n",
       "    <tr>\n",
       "      <td>1</td>\n",
       "      <td>(1.2, 2.4]</td>\n",
       "      <td>0.500000</td>\n",
       "    </tr>\n",
       "    <tr>\n",
       "      <td>2</td>\n",
       "      <td>(2.4, 3.6]</td>\n",
       "      <td>0.600000</td>\n",
       "    </tr>\n",
       "    <tr>\n",
       "      <td>3</td>\n",
       "      <td>(3.6, 4.8]</td>\n",
       "      <td>0.000000</td>\n",
       "    </tr>\n",
       "    <tr>\n",
       "      <td>4</td>\n",
       "      <td>(4.8, 6.0]</td>\n",
       "      <td>0.166667</td>\n",
       "    </tr>\n",
       "  </tbody>\n",
       "</table>\n",
       "</div>"
      ],
      "text/plain": [
       "     ParentChild  Survived\n",
       "0  (-0.006, 1.2]  0.374372\n",
       "1     (1.2, 2.4]  0.500000\n",
       "2     (2.4, 3.6]  0.600000\n",
       "3     (3.6, 4.8]  0.000000\n",
       "4     (4.8, 6.0]  0.166667"
      ]
     },
     "execution_count": 27,
     "metadata": {},
     "output_type": "execute_result"
    }
   ],
   "source": [
    "traindata['ParentChild'] = pd.cut(traindata['Parch'], 5)\n",
    "traindata[['ParentChild', 'Survived']].groupby(['ParentChild'], as_index=False).mean()\n",
    "\n",
    "#Split Age into five groups as output\n",
    "# no Parent/Child, 1-2 Parent/Child,2-4 Parent/Child etc"
   ]
  },
  {
   "cell_type": "code",
   "execution_count": 28,
   "metadata": {},
   "outputs": [],
   "source": [
    "##create new attribute called 'WithFamily' by combine SibSp and Parch, to see how many families with them board  the Titanic\n",
    "data=[traindata]\n",
    "for d in data:\n",
    "    d['WithFamily']=d['SibSp']+d['Parch']"
   ]
  },
  {
   "cell_type": "code",
   "execution_count": 29,
   "metadata": {},
   "outputs": [
    {
     "data": {
      "text/html": [
       "<div>\n",
       "<style scoped>\n",
       "    .dataframe tbody tr th:only-of-type {\n",
       "        vertical-align: middle;\n",
       "    }\n",
       "\n",
       "    .dataframe tbody tr th {\n",
       "        vertical-align: top;\n",
       "    }\n",
       "\n",
       "    .dataframe thead th {\n",
       "        text-align: right;\n",
       "    }\n",
       "</style>\n",
       "<table border=\"1\" class=\"dataframe\">\n",
       "  <thead>\n",
       "    <tr style=\"text-align: right;\">\n",
       "      <th></th>\n",
       "      <th>WithFamily</th>\n",
       "      <th>Survived</th>\n",
       "    </tr>\n",
       "  </thead>\n",
       "  <tbody>\n",
       "    <tr>\n",
       "      <td>0</td>\n",
       "      <td>0</td>\n",
       "      <td>0.303538</td>\n",
       "    </tr>\n",
       "    <tr>\n",
       "      <td>1</td>\n",
       "      <td>1</td>\n",
       "      <td>0.552795</td>\n",
       "    </tr>\n",
       "    <tr>\n",
       "      <td>2</td>\n",
       "      <td>2</td>\n",
       "      <td>0.578431</td>\n",
       "    </tr>\n",
       "    <tr>\n",
       "      <td>3</td>\n",
       "      <td>3</td>\n",
       "      <td>0.724138</td>\n",
       "    </tr>\n",
       "    <tr>\n",
       "      <td>4</td>\n",
       "      <td>4</td>\n",
       "      <td>0.200000</td>\n",
       "    </tr>\n",
       "    <tr>\n",
       "      <td>5</td>\n",
       "      <td>5</td>\n",
       "      <td>0.136364</td>\n",
       "    </tr>\n",
       "    <tr>\n",
       "      <td>6</td>\n",
       "      <td>6</td>\n",
       "      <td>0.333333</td>\n",
       "    </tr>\n",
       "    <tr>\n",
       "      <td>7</td>\n",
       "      <td>7</td>\n",
       "      <td>0.000000</td>\n",
       "    </tr>\n",
       "    <tr>\n",
       "      <td>8</td>\n",
       "      <td>10</td>\n",
       "      <td>0.000000</td>\n",
       "    </tr>\n",
       "  </tbody>\n",
       "</table>\n",
       "</div>"
      ],
      "text/plain": [
       "   WithFamily  Survived\n",
       "0           0  0.303538\n",
       "1           1  0.552795\n",
       "2           2  0.578431\n",
       "3           3  0.724138\n",
       "4           4  0.200000\n",
       "5           5  0.136364\n",
       "6           6  0.333333\n",
       "7           7  0.000000\n",
       "8          10  0.000000"
      ]
     },
     "execution_count": 29,
     "metadata": {},
     "output_type": "execute_result"
    }
   ],
   "source": [
    "traindata[['WithFamily', 'Survived']].groupby(['WithFamily'], as_index=False).mean()\n",
    "##we can conclude with family board on Titanic have more chance to survive than without family(Alone)\n",
    "## Passenger board with 3 Families(sibling,child,parent,spouse) is most likely survive"
   ]
  },
  {
   "cell_type": "code",
   "execution_count": 30,
   "metadata": {},
   "outputs": [],
   "source": [
    "#Fill missing value in Age attribute with mean age value\n",
    "# age range from 0-80, min or max is not good to use, range is too wide, mode() and mean() both are 24 years old\n",
    "# therefore use mean to fill the missing value in age\n",
    "for d in traindata:\n",
    "    agemean=traindata['Age'].mean()\n",
    "    traindata['Age']=traindata['Age'].fillna(agemean)"
   ]
  },
  {
   "cell_type": "code",
   "execution_count": 31,
   "metadata": {},
   "outputs": [
    {
     "data": {
      "text/plain": [
       "<matplotlib.axes._subplots.AxesSubplot at 0x1dd956caa08>"
      ]
     },
     "execution_count": 31,
     "metadata": {},
     "output_type": "execute_result"
    },
    {
     "data": {
      "image/png": "[encoded data removed]",
      "text/plain": [
       "<Figure size 432x288 with 1 Axes>"
      ]
     },
     "metadata": {
      "needs_background": "light"
     },
     "output_type": "display_data"
    }
   ],
   "source": [
    "traindata['Age'].hist(bins=5)\n",
    "# Based on the chart below, will split age to five groups\n",
    "# under 18, 18-33, 33-49,49-65,65+\n"
   ]
  },
  {
   "cell_type": "code",
   "execution_count": 32,
   "metadata": {},
   "outputs": [
    {
     "data": {
      "text/html": [
       "<div>\n",
       "<style scoped>\n",
       "    .dataframe tbody tr th:only-of-type {\n",
       "        vertical-align: middle;\n",
       "    }\n",
       "\n",
       "    .dataframe tbody tr th {\n",
       "        vertical-align: top;\n",
       "    }\n",
       "\n",
       "    .dataframe thead th {\n",
       "        text-align: right;\n",
       "    }\n",
       "</style>\n",
       "<table border=\"1\" class=\"dataframe\">\n",
       "  <thead>\n",
       "    <tr style=\"text-align: right;\">\n",
       "      <th></th>\n",
       "      <th>AgeGroup</th>\n",
       "      <th>Survived</th>\n",
       "    </tr>\n",
       "  </thead>\n",
       "  <tbody>\n",
       "    <tr>\n",
       "      <td>0</td>\n",
       "      <td>(0.34, 16.336]</td>\n",
       "      <td>0.550000</td>\n",
       "    </tr>\n",
       "    <tr>\n",
       "      <td>1</td>\n",
       "      <td>(16.336, 32.252]</td>\n",
       "      <td>0.344168</td>\n",
       "    </tr>\n",
       "    <tr>\n",
       "      <td>2</td>\n",
       "      <td>(32.252, 48.168]</td>\n",
       "      <td>0.404255</td>\n",
       "    </tr>\n",
       "    <tr>\n",
       "      <td>3</td>\n",
       "      <td>(48.168, 64.084]</td>\n",
       "      <td>0.434783</td>\n",
       "    </tr>\n",
       "    <tr>\n",
       "      <td>4</td>\n",
       "      <td>(64.084, 80.0]</td>\n",
       "      <td>0.090909</td>\n",
       "    </tr>\n",
       "  </tbody>\n",
       "</table>\n",
       "</div>"
      ],
      "text/plain": [
       "           AgeGroup  Survived\n",
       "0    (0.34, 16.336]  0.550000\n",
       "1  (16.336, 32.252]  0.344168\n",
       "2  (32.252, 48.168]  0.404255\n",
       "3  (48.168, 64.084]  0.434783\n",
       "4    (64.084, 80.0]  0.090909"
      ]
     },
     "execution_count": 32,
     "metadata": {},
     "output_type": "execute_result"
    }
   ],
   "source": [
    "traindata['AgeGroup'] = pd.cut(traindata['Age'], 5)\n",
    "#traindata[['AgeBand', 'Survived']].groupby(['AgeBand'], as_index=False).mean().sort_values(by='AgeBand', ascending=True)\n",
    "traindata[['AgeGroup', 'Survived']].groupby(['AgeGroup'], as_index=False).mean()\n",
    "\n",
    "#Split Age into five groups as output\n",
    "# under 18, 18-33, 33-49,49-65,65+"
   ]
  },
  {
   "cell_type": "code",
   "execution_count": 33,
   "metadata": {},
   "outputs": [
    {
     "data": {
      "text/plain": [
       "(16.336, 32.252]    523\n",
       "(32.252, 48.168]    188\n",
       "(0.34, 16.336]      100\n",
       "(48.168, 64.084]     69\n",
       "(64.084, 80.0]       11\n",
       "Name: AgeGroup, dtype: int64"
      ]
     },
     "execution_count": 33,
     "metadata": {},
     "output_type": "execute_result"
    }
   ],
   "source": [
    "traindata['AgeGroup'].value_counts()\n",
    "#majority of passenger is between 18-33"
   ]
  },
  {
   "cell_type": "code",
   "execution_count": 34,
   "metadata": {},
   "outputs": [],
   "source": [
    "def AgeGrouping (age):\n",
    "  #      age,sex = AgeGroup\n",
    "        if age <= 17:\n",
    "            return 0  #Child\n",
    "        elif age <=  33:\n",
    "            return 1 #'18-33'\n",
    "        elif age <= 49:\n",
    "            return 2 #'34-49'       \n",
    "        elif age <= 65:\n",
    "            return 3 #'50-65'\n",
    "        else:\n",
    "            return 4 #'senior'"
   ]
  },
  {
   "cell_type": "code",
   "execution_count": 35,
   "metadata": {},
   "outputs": [],
   "source": [
    "da=[traindata]\n",
    "for d in da:\n",
    "    d['AgeNew']=traindata['Age'].map(AgeGrouping)"
   ]
  },
  {
   "cell_type": "code",
   "execution_count": 36,
   "metadata": {},
   "outputs": [
    {
     "data": {
      "text/plain": [
       "8.0500     43\n",
       "13.0000    42\n",
       "7.8958     38\n",
       "7.7500     34\n",
       "26.0000    31\n",
       "           ..\n",
       "8.4583      1\n",
       "9.8375      1\n",
       "8.3625      1\n",
       "14.1083     1\n",
       "17.4000     1\n",
       "Name: Fare, Length: 248, dtype: int64"
      ]
     },
     "execution_count": 36,
     "metadata": {},
     "output_type": "execute_result"
    }
   ],
   "source": [
    "# there are 248 different ticket fare, need to setup the FareGroup attribute\n",
    "traindata['Fare'].value_counts()"
   ]
  },
  {
   "cell_type": "code",
   "execution_count": 37,
   "metadata": {},
   "outputs": [
    {
     "data": {
      "text/plain": [
       "<matplotlib.axes._subplots.AxesSubplot at 0x1dd95765388>"
      ]
     },
     "execution_count": 37,
     "metadata": {},
     "output_type": "execute_result"
    },
    {
     "data": {
      "image/png": "[encoded data removed]",
      "text/plain": [
       "<Figure size 432x288 with 1 Axes>"
      ]
     },
     "metadata": {
      "needs_background": "light"
     },
     "output_type": "display_data"
    }
   ],
   "source": [
    "traindata['Fare'].hist(bins=6)"
   ]
  },
  {
   "cell_type": "code",
   "execution_count": 38,
   "metadata": {},
   "outputs": [
    {
     "data": {
      "text/html": [
       "<div>\n",
       "<style scoped>\n",
       "    .dataframe tbody tr th:only-of-type {\n",
       "        vertical-align: middle;\n",
       "    }\n",
       "\n",
       "    .dataframe tbody tr th {\n",
       "        vertical-align: top;\n",
       "    }\n",
       "\n",
       "    .dataframe thead th {\n",
       "        text-align: right;\n",
       "    }\n",
       "</style>\n",
       "<table border=\"1\" class=\"dataframe\">\n",
       "  <thead>\n",
       "    <tr style=\"text-align: right;\">\n",
       "      <th></th>\n",
       "      <th>FareGroup</th>\n",
       "      <th>Survived</th>\n",
       "    </tr>\n",
       "  </thead>\n",
       "  <tbody>\n",
       "    <tr>\n",
       "      <td>0</td>\n",
       "      <td>(-0.512, 85.388]</td>\n",
       "      <td>0.352727</td>\n",
       "    </tr>\n",
       "    <tr>\n",
       "      <td>1</td>\n",
       "      <td>(85.388, 170.776]</td>\n",
       "      <td>0.804348</td>\n",
       "    </tr>\n",
       "    <tr>\n",
       "      <td>2</td>\n",
       "      <td>(170.776, 256.165]</td>\n",
       "      <td>0.636364</td>\n",
       "    </tr>\n",
       "    <tr>\n",
       "      <td>3</td>\n",
       "      <td>(256.165, 341.553]</td>\n",
       "      <td>0.666667</td>\n",
       "    </tr>\n",
       "    <tr>\n",
       "      <td>4</td>\n",
       "      <td>(341.553, 426.941]</td>\n",
       "      <td>NaN</td>\n",
       "    </tr>\n",
       "    <tr>\n",
       "      <td>5</td>\n",
       "      <td>(426.941, 512.329]</td>\n",
       "      <td>1.000000</td>\n",
       "    </tr>\n",
       "  </tbody>\n",
       "</table>\n",
       "</div>"
      ],
      "text/plain": [
       "            FareGroup  Survived\n",
       "0    (-0.512, 85.388]  0.352727\n",
       "1   (85.388, 170.776]  0.804348\n",
       "2  (170.776, 256.165]  0.636364\n",
       "3  (256.165, 341.553]  0.666667\n",
       "4  (341.553, 426.941]       NaN\n",
       "5  (426.941, 512.329]  1.000000"
      ]
     },
     "execution_count": 38,
     "metadata": {},
     "output_type": "execute_result"
    }
   ],
   "source": [
    "traindata['FareGroup'] = pd.cut(traindata['Fare'], 6)\n",
    "traindata[['FareGroup', 'Survived']].groupby(['FareGroup'], as_index=False).mean()\n",
    "\n",
    "#Split Fare into groups"
   ]
  },
  {
   "cell_type": "code",
   "execution_count": 39,
   "metadata": {},
   "outputs": [],
   "source": [
    "def FareG (Fare):\n",
    "        if Fare<= 85:\n",
    "            return 0   #Ticket Fare is Under 85\n",
    "        elif Fare<= 170:\n",
    "            return 1   #Ticket Fare is between 85 and 170\n",
    "        elif Fare<= 260:\n",
    "            return 2   #Ticket Fare is between 170 and 260\n",
    "        elif Fare<= 340:\n",
    "            return 3   #Ticket Fare is between 260 and 340\n",
    "        elif Fare<= 430:\n",
    "            return 4   #Ticket Fare is between 340 and 430\n",
    "        else  :\n",
    "            return 5   #Ticket Fare is greater than 430\n",
    "da=[traindata]\n",
    "for d in da:\n",
    "    d['FareNew']=traindata['Fare'].map(FareG)"
   ]
  },
  {
   "cell_type": "code",
   "execution_count": 40,
   "metadata": {},
   "outputs": [
    {
     "data": {
      "text/html": [
       "<div>\n",
       "<style scoped>\n",
       "    .dataframe tbody tr th:only-of-type {\n",
       "        vertical-align: middle;\n",
       "    }\n",
       "\n",
       "    .dataframe tbody tr th {\n",
       "        vertical-align: top;\n",
       "    }\n",
       "\n",
       "    .dataframe thead th {\n",
       "        text-align: right;\n",
       "    }\n",
       "</style>\n",
       "<table border=\"1\" class=\"dataframe\">\n",
       "  <thead>\n",
       "    <tr style=\"text-align: right;\">\n",
       "      <th></th>\n",
       "      <th>FareNew</th>\n",
       "      <th>Pclass</th>\n",
       "      <th>Survived</th>\n",
       "    </tr>\n",
       "  </thead>\n",
       "  <tbody>\n",
       "    <tr>\n",
       "      <td>0</td>\n",
       "      <td>0</td>\n",
       "      <td>1</td>\n",
       "      <td>0.566667</td>\n",
       "    </tr>\n",
       "    <tr>\n",
       "      <td>1</td>\n",
       "      <td>0</td>\n",
       "      <td>2</td>\n",
       "      <td>0.472826</td>\n",
       "    </tr>\n",
       "    <tr>\n",
       "      <td>2</td>\n",
       "      <td>0</td>\n",
       "      <td>3</td>\n",
       "      <td>0.242363</td>\n",
       "    </tr>\n",
       "    <tr>\n",
       "      <td>3</td>\n",
       "      <td>1</td>\n",
       "      <td>1</td>\n",
       "      <td>0.804348</td>\n",
       "    </tr>\n",
       "    <tr>\n",
       "      <td>4</td>\n",
       "      <td>2</td>\n",
       "      <td>1</td>\n",
       "      <td>0.636364</td>\n",
       "    </tr>\n",
       "    <tr>\n",
       "      <td>5</td>\n",
       "      <td>3</td>\n",
       "      <td>1</td>\n",
       "      <td>0.666667</td>\n",
       "    </tr>\n",
       "    <tr>\n",
       "      <td>6</td>\n",
       "      <td>5</td>\n",
       "      <td>1</td>\n",
       "      <td>1.000000</td>\n",
       "    </tr>\n",
       "  </tbody>\n",
       "</table>\n",
       "</div>"
      ],
      "text/plain": [
       "   FareNew  Pclass  Survived\n",
       "0        0       1  0.566667\n",
       "1        0       2  0.472826\n",
       "2        0       3  0.242363\n",
       "3        1       1  0.804348\n",
       "4        2       1  0.636364\n",
       "5        3       1  0.666667\n",
       "6        5       1  1.000000"
      ]
     },
     "execution_count": 40,
     "metadata": {},
     "output_type": "execute_result"
    }
   ],
   "source": [
    "traindata[['FareNew', 'Pclass','Survived']].groupby(['FareNew','Pclass'], as_index=False).mean()\n",
    "\n",
    "##Passenger in Class1 pay higher Fare, Pay above 430 Fare who 1st Pclass have 100% survival rate"
   ]
  },
  {
   "cell_type": "code",
   "execution_count": 41,
   "metadata": {},
   "outputs": [
    {
     "data": {
      "text/html": [
       "<div>\n",
       "<style scoped>\n",
       "    .dataframe tbody tr th:only-of-type {\n",
       "        vertical-align: middle;\n",
       "    }\n",
       "\n",
       "    .dataframe tbody tr th {\n",
       "        vertical-align: top;\n",
       "    }\n",
       "\n",
       "    .dataframe thead th {\n",
       "        text-align: right;\n",
       "    }\n",
       "</style>\n",
       "<table border=\"1\" class=\"dataframe\">\n",
       "  <thead>\n",
       "    <tr style=\"text-align: right;\">\n",
       "      <th></th>\n",
       "      <th>Survived</th>\n",
       "      <th>Pclass</th>\n",
       "      <th>Sex</th>\n",
       "      <th>Age</th>\n",
       "      <th>SibSp</th>\n",
       "      <th>Parch</th>\n",
       "      <th>Fare</th>\n",
       "      <th>Embarked</th>\n",
       "      <th>Gender</th>\n",
       "      <th>EmbarkedNew</th>\n",
       "      <th>SibSpGroup</th>\n",
       "      <th>ParentChild</th>\n",
       "      <th>WithFamily</th>\n",
       "      <th>AgeGroup</th>\n",
       "      <th>AgeNew</th>\n",
       "      <th>FareGroup</th>\n",
       "      <th>FareNew</th>\n",
       "    </tr>\n",
       "  </thead>\n",
       "  <tbody>\n",
       "    <tr>\n",
       "      <td>0</td>\n",
       "      <td>0</td>\n",
       "      <td>3</td>\n",
       "      <td>male</td>\n",
       "      <td>22.000000</td>\n",
       "      <td>1</td>\n",
       "      <td>0</td>\n",
       "      <td>7.2500</td>\n",
       "      <td>S</td>\n",
       "      <td>0</td>\n",
       "      <td>3</td>\n",
       "      <td>(-0.008, 1.6]</td>\n",
       "      <td>(-0.006, 1.2]</td>\n",
       "      <td>1</td>\n",
       "      <td>(16.336, 32.252]</td>\n",
       "      <td>1</td>\n",
       "      <td>(-0.512, 85.388]</td>\n",
       "      <td>0</td>\n",
       "    </tr>\n",
       "    <tr>\n",
       "      <td>1</td>\n",
       "      <td>1</td>\n",
       "      <td>1</td>\n",
       "      <td>female</td>\n",
       "      <td>38.000000</td>\n",
       "      <td>1</td>\n",
       "      <td>0</td>\n",
       "      <td>71.2833</td>\n",
       "      <td>C</td>\n",
       "      <td>1</td>\n",
       "      <td>1</td>\n",
       "      <td>(-0.008, 1.6]</td>\n",
       "      <td>(-0.006, 1.2]</td>\n",
       "      <td>1</td>\n",
       "      <td>(32.252, 48.168]</td>\n",
       "      <td>2</td>\n",
       "      <td>(-0.512, 85.388]</td>\n",
       "      <td>0</td>\n",
       "    </tr>\n",
       "    <tr>\n",
       "      <td>2</td>\n",
       "      <td>1</td>\n",
       "      <td>3</td>\n",
       "      <td>female</td>\n",
       "      <td>26.000000</td>\n",
       "      <td>0</td>\n",
       "      <td>0</td>\n",
       "      <td>7.9250</td>\n",
       "      <td>S</td>\n",
       "      <td>1</td>\n",
       "      <td>3</td>\n",
       "      <td>(-0.008, 1.6]</td>\n",
       "      <td>(-0.006, 1.2]</td>\n",
       "      <td>0</td>\n",
       "      <td>(16.336, 32.252]</td>\n",
       "      <td>1</td>\n",
       "      <td>(-0.512, 85.388]</td>\n",
       "      <td>0</td>\n",
       "    </tr>\n",
       "    <tr>\n",
       "      <td>3</td>\n",
       "      <td>1</td>\n",
       "      <td>1</td>\n",
       "      <td>female</td>\n",
       "      <td>35.000000</td>\n",
       "      <td>1</td>\n",
       "      <td>0</td>\n",
       "      <td>53.1000</td>\n",
       "      <td>S</td>\n",
       "      <td>1</td>\n",
       "      <td>3</td>\n",
       "      <td>(-0.008, 1.6]</td>\n",
       "      <td>(-0.006, 1.2]</td>\n",
       "      <td>1</td>\n",
       "      <td>(32.252, 48.168]</td>\n",
       "      <td>2</td>\n",
       "      <td>(-0.512, 85.388]</td>\n",
       "      <td>0</td>\n",
       "    </tr>\n",
       "    <tr>\n",
       "      <td>4</td>\n",
       "      <td>0</td>\n",
       "      <td>3</td>\n",
       "      <td>male</td>\n",
       "      <td>35.000000</td>\n",
       "      <td>0</td>\n",
       "      <td>0</td>\n",
       "      <td>8.0500</td>\n",
       "      <td>S</td>\n",
       "      <td>0</td>\n",
       "      <td>3</td>\n",
       "      <td>(-0.008, 1.6]</td>\n",
       "      <td>(-0.006, 1.2]</td>\n",
       "      <td>0</td>\n",
       "      <td>(32.252, 48.168]</td>\n",
       "      <td>2</td>\n",
       "      <td>(-0.512, 85.388]</td>\n",
       "      <td>0</td>\n",
       "    </tr>\n",
       "    <tr>\n",
       "      <td>5</td>\n",
       "      <td>0</td>\n",
       "      <td>3</td>\n",
       "      <td>male</td>\n",
       "      <td>29.699118</td>\n",
       "      <td>0</td>\n",
       "      <td>0</td>\n",
       "      <td>8.4583</td>\n",
       "      <td>Q</td>\n",
       "      <td>0</td>\n",
       "      <td>2</td>\n",
       "      <td>(-0.008, 1.6]</td>\n",
       "      <td>(-0.006, 1.2]</td>\n",
       "      <td>0</td>\n",
       "      <td>(16.336, 32.252]</td>\n",
       "      <td>1</td>\n",
       "      <td>(-0.512, 85.388]</td>\n",
       "      <td>0</td>\n",
       "    </tr>\n",
       "    <tr>\n",
       "      <td>6</td>\n",
       "      <td>0</td>\n",
       "      <td>1</td>\n",
       "      <td>male</td>\n",
       "      <td>54.000000</td>\n",
       "      <td>0</td>\n",
       "      <td>0</td>\n",
       "      <td>51.8625</td>\n",
       "      <td>S</td>\n",
       "      <td>0</td>\n",
       "      <td>3</td>\n",
       "      <td>(-0.008, 1.6]</td>\n",
       "      <td>(-0.006, 1.2]</td>\n",
       "      <td>0</td>\n",
       "      <td>(48.168, 64.084]</td>\n",
       "      <td>3</td>\n",
       "      <td>(-0.512, 85.388]</td>\n",
       "      <td>0</td>\n",
       "    </tr>\n",
       "    <tr>\n",
       "      <td>7</td>\n",
       "      <td>0</td>\n",
       "      <td>3</td>\n",
       "      <td>male</td>\n",
       "      <td>2.000000</td>\n",
       "      <td>3</td>\n",
       "      <td>1</td>\n",
       "      <td>21.0750</td>\n",
       "      <td>S</td>\n",
       "      <td>0</td>\n",
       "      <td>3</td>\n",
       "      <td>(1.6, 3.2]</td>\n",
       "      <td>(-0.006, 1.2]</td>\n",
       "      <td>4</td>\n",
       "      <td>(0.34, 16.336]</td>\n",
       "      <td>0</td>\n",
       "      <td>(-0.512, 85.388]</td>\n",
       "      <td>0</td>\n",
       "    </tr>\n",
       "    <tr>\n",
       "      <td>8</td>\n",
       "      <td>1</td>\n",
       "      <td>3</td>\n",
       "      <td>female</td>\n",
       "      <td>27.000000</td>\n",
       "      <td>0</td>\n",
       "      <td>2</td>\n",
       "      <td>11.1333</td>\n",
       "      <td>S</td>\n",
       "      <td>1</td>\n",
       "      <td>3</td>\n",
       "      <td>(-0.008, 1.6]</td>\n",
       "      <td>(1.2, 2.4]</td>\n",
       "      <td>2</td>\n",
       "      <td>(16.336, 32.252]</td>\n",
       "      <td>1</td>\n",
       "      <td>(-0.512, 85.388]</td>\n",
       "      <td>0</td>\n",
       "    </tr>\n",
       "    <tr>\n",
       "      <td>9</td>\n",
       "      <td>1</td>\n",
       "      <td>2</td>\n",
       "      <td>female</td>\n",
       "      <td>14.000000</td>\n",
       "      <td>1</td>\n",
       "      <td>0</td>\n",
       "      <td>30.0708</td>\n",
       "      <td>C</td>\n",
       "      <td>1</td>\n",
       "      <td>1</td>\n",
       "      <td>(-0.008, 1.6]</td>\n",
       "      <td>(-0.006, 1.2]</td>\n",
       "      <td>1</td>\n",
       "      <td>(0.34, 16.336]</td>\n",
       "      <td>0</td>\n",
       "      <td>(-0.512, 85.388]</td>\n",
       "      <td>0</td>\n",
       "    </tr>\n",
       "  </tbody>\n",
       "</table>\n",
       "</div>"
      ],
      "text/plain": [
       "   Survived  Pclass     Sex        Age  SibSp  Parch     Fare Embarked  \\\n",
       "0         0       3    male  22.000000      1      0   7.2500        S   \n",
       "1         1       1  female  38.000000      1      0  71.2833        C   \n",
       "2         1       3  female  26.000000      0      0   7.9250        S   \n",
       "3         1       1  female  35.000000      1      0  53.1000        S   \n",
       "4         0       3    male  35.000000      0      0   8.0500        S   \n",
       "5         0       3    male  29.699118      0      0   8.4583        Q   \n",
       "6         0       1    male  54.000000      0      0  51.8625        S   \n",
       "7         0       3    male   2.000000      3      1  21.0750        S   \n",
       "8         1       3  female  27.000000      0      2  11.1333        S   \n",
       "9         1       2  female  14.000000      1      0  30.0708        C   \n",
       "\n",
       "   Gender  EmbarkedNew     SibSpGroup    ParentChild  WithFamily  \\\n",
       "0       0            3  (-0.008, 1.6]  (-0.006, 1.2]           1   \n",
       "1       1            1  (-0.008, 1.6]  (-0.006, 1.2]           1   \n",
       "2       1            3  (-0.008, 1.6]  (-0.006, 1.2]           0   \n",
       "3       1            3  (-0.008, 1.6]  (-0.006, 1.2]           1   \n",
       "4       0            3  (-0.008, 1.6]  (-0.006, 1.2]           0   \n",
       "5       0            2  (-0.008, 1.6]  (-0.006, 1.2]           0   \n",
       "6       0            3  (-0.008, 1.6]  (-0.006, 1.2]           0   \n",
       "7       0            3     (1.6, 3.2]  (-0.006, 1.2]           4   \n",
       "8       1            3  (-0.008, 1.6]     (1.2, 2.4]           2   \n",
       "9       1            1  (-0.008, 1.6]  (-0.006, 1.2]           1   \n",
       "\n",
       "           AgeGroup  AgeNew         FareGroup  FareNew  \n",
       "0  (16.336, 32.252]       1  (-0.512, 85.388]        0  \n",
       "1  (32.252, 48.168]       2  (-0.512, 85.388]        0  \n",
       "2  (16.336, 32.252]       1  (-0.512, 85.388]        0  \n",
       "3  (32.252, 48.168]       2  (-0.512, 85.388]        0  \n",
       "4  (32.252, 48.168]       2  (-0.512, 85.388]        0  \n",
       "5  (16.336, 32.252]       1  (-0.512, 85.388]        0  \n",
       "6  (48.168, 64.084]       3  (-0.512, 85.388]        0  \n",
       "7    (0.34, 16.336]       0  (-0.512, 85.388]        0  \n",
       "8  (16.336, 32.252]       1  (-0.512, 85.388]        0  \n",
       "9    (0.34, 16.336]       0  (-0.512, 85.388]        0  "
      ]
     },
     "execution_count": 41,
     "metadata": {},
     "output_type": "execute_result"
    }
   ],
   "source": [
    "traindata.head(10)"
   ]
  },
  {
   "cell_type": "code",
   "execution_count": 42,
   "metadata": {},
   "outputs": [],
   "source": [
    "##want to use corr() formula again, need to drop old attributes\n",
    "traindata = traindata.drop(['Sex','Age','Fare','SibSp','Parch','Embarked','SibSpGroup','ParentChild','AgeGroup','FareGroup'], axis=1)"
   ]
  },
  {
   "cell_type": "code",
   "execution_count": 43,
   "metadata": {},
   "outputs": [
    {
     "data": {
      "text/html": [
       "<div>\n",
       "<style scoped>\n",
       "    .dataframe tbody tr th:only-of-type {\n",
       "        vertical-align: middle;\n",
       "    }\n",
       "\n",
       "    .dataframe tbody tr th {\n",
       "        vertical-align: top;\n",
       "    }\n",
       "\n",
       "    .dataframe thead th {\n",
       "        text-align: right;\n",
       "    }\n",
       "</style>\n",
       "<table border=\"1\" class=\"dataframe\">\n",
       "  <thead>\n",
       "    <tr style=\"text-align: right;\">\n",
       "      <th></th>\n",
       "      <th>Survived</th>\n",
       "      <th>Pclass</th>\n",
       "      <th>Gender</th>\n",
       "      <th>EmbarkedNew</th>\n",
       "      <th>WithFamily</th>\n",
       "      <th>AgeNew</th>\n",
       "      <th>FareNew</th>\n",
       "    </tr>\n",
       "  </thead>\n",
       "  <tbody>\n",
       "    <tr>\n",
       "      <td>0</td>\n",
       "      <td>0</td>\n",
       "      <td>3</td>\n",
       "      <td>0</td>\n",
       "      <td>3</td>\n",
       "      <td>1</td>\n",
       "      <td>1</td>\n",
       "      <td>0</td>\n",
       "    </tr>\n",
       "    <tr>\n",
       "      <td>1</td>\n",
       "      <td>1</td>\n",
       "      <td>1</td>\n",
       "      <td>1</td>\n",
       "      <td>1</td>\n",
       "      <td>1</td>\n",
       "      <td>2</td>\n",
       "      <td>0</td>\n",
       "    </tr>\n",
       "    <tr>\n",
       "      <td>2</td>\n",
       "      <td>1</td>\n",
       "      <td>3</td>\n",
       "      <td>1</td>\n",
       "      <td>3</td>\n",
       "      <td>0</td>\n",
       "      <td>1</td>\n",
       "      <td>0</td>\n",
       "    </tr>\n",
       "    <tr>\n",
       "      <td>3</td>\n",
       "      <td>1</td>\n",
       "      <td>1</td>\n",
       "      <td>1</td>\n",
       "      <td>3</td>\n",
       "      <td>1</td>\n",
       "      <td>2</td>\n",
       "      <td>0</td>\n",
       "    </tr>\n",
       "    <tr>\n",
       "      <td>4</td>\n",
       "      <td>0</td>\n",
       "      <td>3</td>\n",
       "      <td>0</td>\n",
       "      <td>3</td>\n",
       "      <td>0</td>\n",
       "      <td>2</td>\n",
       "      <td>0</td>\n",
       "    </tr>\n",
       "    <tr>\n",
       "      <td>5</td>\n",
       "      <td>0</td>\n",
       "      <td>3</td>\n",
       "      <td>0</td>\n",
       "      <td>2</td>\n",
       "      <td>0</td>\n",
       "      <td>1</td>\n",
       "      <td>0</td>\n",
       "    </tr>\n",
       "    <tr>\n",
       "      <td>6</td>\n",
       "      <td>0</td>\n",
       "      <td>1</td>\n",
       "      <td>0</td>\n",
       "      <td>3</td>\n",
       "      <td>0</td>\n",
       "      <td>3</td>\n",
       "      <td>0</td>\n",
       "    </tr>\n",
       "    <tr>\n",
       "      <td>7</td>\n",
       "      <td>0</td>\n",
       "      <td>3</td>\n",
       "      <td>0</td>\n",
       "      <td>3</td>\n",
       "      <td>4</td>\n",
       "      <td>0</td>\n",
       "      <td>0</td>\n",
       "    </tr>\n",
       "    <tr>\n",
       "      <td>8</td>\n",
       "      <td>1</td>\n",
       "      <td>3</td>\n",
       "      <td>1</td>\n",
       "      <td>3</td>\n",
       "      <td>2</td>\n",
       "      <td>1</td>\n",
       "      <td>0</td>\n",
       "    </tr>\n",
       "    <tr>\n",
       "      <td>9</td>\n",
       "      <td>1</td>\n",
       "      <td>2</td>\n",
       "      <td>1</td>\n",
       "      <td>1</td>\n",
       "      <td>1</td>\n",
       "      <td>0</td>\n",
       "      <td>0</td>\n",
       "    </tr>\n",
       "  </tbody>\n",
       "</table>\n",
       "</div>"
      ],
      "text/plain": [
       "   Survived  Pclass  Gender  EmbarkedNew  WithFamily  AgeNew  FareNew\n",
       "0         0       3       0            3           1       1        0\n",
       "1         1       1       1            1           1       2        0\n",
       "2         1       3       1            3           0       1        0\n",
       "3         1       1       1            3           1       2        0\n",
       "4         0       3       0            3           0       2        0\n",
       "5         0       3       0            2           0       1        0\n",
       "6         0       1       0            3           0       3        0\n",
       "7         0       3       0            3           4       0        0\n",
       "8         1       3       1            3           2       1        0\n",
       "9         1       2       1            1           1       0        0"
      ]
     },
     "execution_count": 43,
     "metadata": {},
     "output_type": "execute_result"
    }
   ],
   "source": [
    "traindata.head(10)"
   ]
  },
  {
   "cell_type": "code",
   "execution_count": 44,
   "metadata": {},
   "outputs": [
    {
     "data": {
      "text/html": [
       "<div>\n",
       "<style scoped>\n",
       "    .dataframe tbody tr th:only-of-type {\n",
       "        vertical-align: middle;\n",
       "    }\n",
       "\n",
       "    .dataframe tbody tr th {\n",
       "        vertical-align: top;\n",
       "    }\n",
       "\n",
       "    .dataframe thead th {\n",
       "        text-align: right;\n",
       "    }\n",
       "</style>\n",
       "<table border=\"1\" class=\"dataframe\">\n",
       "  <thead>\n",
       "    <tr style=\"text-align: right;\">\n",
       "      <th></th>\n",
       "      <th>Survived</th>\n",
       "      <th>Pclass</th>\n",
       "      <th>Gender</th>\n",
       "      <th>EmbarkedNew</th>\n",
       "      <th>WithFamily</th>\n",
       "      <th>AgeNew</th>\n",
       "      <th>FareNew</th>\n",
       "    </tr>\n",
       "  </thead>\n",
       "  <tbody>\n",
       "    <tr>\n",
       "      <td>Survived</td>\n",
       "      <td>1.000000</td>\n",
       "      <td>-0.338481</td>\n",
       "      <td>0.543351</td>\n",
       "      <td>-0.167675</td>\n",
       "      <td>0.016639</td>\n",
       "      <td>-0.050260</td>\n",
       "      <td>0.187595</td>\n",
       "    </tr>\n",
       "    <tr>\n",
       "      <td>Pclass</td>\n",
       "      <td>-0.338481</td>\n",
       "      <td>1.000000</td>\n",
       "      <td>-0.131900</td>\n",
       "      <td>0.162098</td>\n",
       "      <td>0.065997</td>\n",
       "      <td>-0.350289</td>\n",
       "      <td>-0.367825</td>\n",
       "    </tr>\n",
       "    <tr>\n",
       "      <td>Gender</td>\n",
       "      <td>0.543351</td>\n",
       "      <td>-0.131900</td>\n",
       "      <td>1.000000</td>\n",
       "      <td>-0.108262</td>\n",
       "      <td>0.200988</td>\n",
       "      <td>-0.074882</td>\n",
       "      <td>0.128538</td>\n",
       "    </tr>\n",
       "    <tr>\n",
       "      <td>EmbarkedNew</td>\n",
       "      <td>-0.167675</td>\n",
       "      <td>0.162098</td>\n",
       "      <td>-0.108262</td>\n",
       "      <td>1.000000</td>\n",
       "      <td>0.066516</td>\n",
       "      <td>0.014126</td>\n",
       "      <td>-0.197495</td>\n",
       "    </tr>\n",
       "    <tr>\n",
       "      <td>WithFamily</td>\n",
       "      <td>0.016639</td>\n",
       "      <td>0.065997</td>\n",
       "      <td>0.200988</td>\n",
       "      <td>0.066516</td>\n",
       "      <td>1.000000</td>\n",
       "      <td>-0.217236</td>\n",
       "      <td>0.098976</td>\n",
       "    </tr>\n",
       "    <tr>\n",
       "      <td>AgeNew</td>\n",
       "      <td>-0.050260</td>\n",
       "      <td>-0.350289</td>\n",
       "      <td>-0.074882</td>\n",
       "      <td>0.014126</td>\n",
       "      <td>-0.217236</td>\n",
       "      <td>1.000000</td>\n",
       "      <td>0.069854</td>\n",
       "    </tr>\n",
       "    <tr>\n",
       "      <td>FareNew</td>\n",
       "      <td>0.187595</td>\n",
       "      <td>-0.367825</td>\n",
       "      <td>0.128538</td>\n",
       "      <td>-0.197495</td>\n",
       "      <td>0.098976</td>\n",
       "      <td>0.069854</td>\n",
       "      <td>1.000000</td>\n",
       "    </tr>\n",
       "  </tbody>\n",
       "</table>\n",
       "</div>"
      ],
      "text/plain": [
       "             Survived    Pclass    Gender  EmbarkedNew  WithFamily    AgeNew  \\\n",
       "Survived     1.000000 -0.338481  0.543351    -0.167675    0.016639 -0.050260   \n",
       "Pclass      -0.338481  1.000000 -0.131900     0.162098    0.065997 -0.350289   \n",
       "Gender       0.543351 -0.131900  1.000000    -0.108262    0.200988 -0.074882   \n",
       "EmbarkedNew -0.167675  0.162098 -0.108262     1.000000    0.066516  0.014126   \n",
       "WithFamily   0.016639  0.065997  0.200988     0.066516    1.000000 -0.217236   \n",
       "AgeNew      -0.050260 -0.350289 -0.074882     0.014126   -0.217236  1.000000   \n",
       "FareNew      0.187595 -0.367825  0.128538    -0.197495    0.098976  0.069854   \n",
       "\n",
       "              FareNew  \n",
       "Survived     0.187595  \n",
       "Pclass      -0.367825  \n",
       "Gender       0.128538  \n",
       "EmbarkedNew -0.197495  \n",
       "WithFamily   0.098976  \n",
       "AgeNew       0.069854  \n",
       "FareNew      1.000000  "
      ]
     },
     "execution_count": 44,
     "metadata": {},
     "output_type": "execute_result"
    }
   ],
   "source": [
    "traindata.corr()\n",
    "#Compare to the first correlation analysis, we build some new attribute\n",
    "#and they have stronger correlation to survived\n",
    "#Gender have strongest postivie correlation to Survived, female is more likely to survive\n",
    "#Embarking City has some negative correlation to Survived, Passenger embarked at Cherbourg have highest chance to survive\n",
    "#Pclass has strong negative correlation to Survived, Class 1 Passenger is more likely to survive\n",
    "#FareNew has positive correlation to Survived, passenger pay higher ticket Fare is more likely to survive\n",
    "#WithFamily(Spouse,parent,child,siblings) has positive correlation to survived, passenger board with family is more likely survive"
   ]
  }
 ],
 "metadata": {
  "kernelspec": {
   "display_name": "Python 3",
   "language": "python",
   "name": "python3"
  },
  "language_info": {
   "codemirror_mode": {
    "name": "ipython",
    "version": 3
   },
   "file_extension": ".py",
   "mimetype": "text/x-python",
   "name": "python",
   "nbconvert_exporter": "python",
   "pygments_lexer": "ipython3",
   "version": "3.7.4"
  },
  "toc": {
   "base_numbering": 1,
   "nav_menu": {},
   "number_sections": false,
   "sideBar": true,
   "skip_h1_title": false,
   "title_cell": "Table of Contents",
   "title_sidebar": "Contents",
   "toc_cell": false,
   "toc_position": {},
   "toc_section_display": true,
   "toc_window_display": false
  }
 },
 "nbformat": 4,
 "nbformat_minor": 2
}
